{
  "nbformat": 4,
  "nbformat_minor": 0,
  "metadata": {
    "colab": {
      "name": "02-02-tokenizer-과제.ipynb",
      "provenance": [],
      "collapsed_sections": [
        "6dfJPT-2XMTB",
        "JHkHg6XAXoyK"
      ],
      "toc_visible": true,
      "include_colab_link": true
    },
    "kernelspec": {
      "name": "python3",
      "display_name": "Python 3"
    }
  },
  "cells": [
    {
      "cell_type": "markdown",
      "metadata": {
        "id": "view-in-github",
        "colab_type": "text"
      },
      "source": [
        "<a href=\"https://colab.research.google.com/github/ujin2021/NLP_CAMP/blob/main/day2/02_02_tokenizer_%EA%B3%BC%EC%A0%9C.ipynb\" target=\"_parent\"><img src=\"https://colab.research.google.com/assets/colab-badge.svg\" alt=\"Open In Colab\"/></a>"
      ]
    },
    {
      "cell_type": "markdown",
      "metadata": {
        "id": "6dfJPT-2XMTB"
      },
      "source": [
        "# Install"
      ]
    },
    {
      "cell_type": "code",
      "metadata": {
        "colab": {
          "base_uri": "https://localhost:8080/"
        },
        "id": "a193aGJWVaqb",
        "outputId": "251af497-1320-4352-c2d2-7c666de13c7d"
      },
      "source": [
        "!pip install sentencepiece"
      ],
      "execution_count": 1,
      "outputs": [
        {
          "output_type": "stream",
          "text": [
            "Collecting sentencepiece\n",
            "\u001b[?25l  Downloading https://files.pythonhosted.org/packages/14/67/e42bd1181472c95c8cda79305df848264f2a7f62740995a46945d9797b67/sentencepiece-0.1.95-cp36-cp36m-manylinux2014_x86_64.whl (1.2MB)\n",
            "\u001b[K     |████████████████████████████████| 1.2MB 6.3MB/s \n",
            "\u001b[?25hInstalling collected packages: sentencepiece\n",
            "Successfully installed sentencepiece-0.1.95\n"
          ],
          "name": "stdout"
        }
      ]
    },
    {
      "cell_type": "markdown",
      "metadata": {
        "id": "JHkHg6XAXoyK"
      },
      "source": [
        "# Evn"
      ]
    },
    {
      "cell_type": "code",
      "metadata": {
        "id": "WkYXFwcBXJDG"
      },
      "source": [
        "import os\n",
        "import random\n",
        "import shutil\n",
        "import json\n",
        "import zipfile\n",
        "import math\n",
        "import copy\n",
        "import collections\n",
        "import re\n",
        "\n",
        "import matplotlib.pyplot as plt\n",
        "import pandas as pd\n",
        "import numpy as np\n",
        "import sentencepiece as spm\n",
        "import tensorflow as tf\n",
        "import tensorflow.keras.backend as K\n",
        "\n",
        "from tqdm.notebook import tqdm"
      ],
      "execution_count": 2,
      "outputs": []
    },
    {
      "cell_type": "code",
      "metadata": {
        "id": "nvjyruUlXtlR"
      },
      "source": [
        "# random seed initialize\n",
        "random_seed = 1234\n",
        "random.seed(random_seed)\n",
        "np.random.seed(random_seed)\n",
        "tf.random.set_seed(random_seed)"
      ],
      "execution_count": 4,
      "outputs": []
    },
    {
      "cell_type": "code",
      "metadata": {
        "colab": {
          "base_uri": "https://localhost:8080/"
        },
        "id": "BC3fXkhdYcYt",
        "outputId": "2265f7f6-2f50-4b02-9b4a-c3a165877337"
      },
      "source": [
        "!nvidia-smi"
      ],
      "execution_count": null,
      "outputs": [
        {
          "output_type": "stream",
          "text": [
            "NVIDIA-SMI has failed because it couldn't communicate with the NVIDIA driver. Make sure that the latest NVIDIA driver is installed and running.\n",
            "\n"
          ],
          "name": "stdout"
        }
      ]
    },
    {
      "cell_type": "code",
      "metadata": {
        "colab": {
          "base_uri": "https://localhost:8080/"
        },
        "id": "xVRdxYReYeQj",
        "outputId": "5f8abb60-c5de-4918-a26c-92954524d94f"
      },
      "source": [
        "# google drive mount\n",
        "from google.colab import drive\n",
        "drive.mount('/content/drive')"
      ],
      "execution_count": 6,
      "outputs": [
        {
          "output_type": "stream",
          "text": [
            "Mounted at /content/drive\n"
          ],
          "name": "stdout"
        }
      ]
    },
    {
      "cell_type": "code",
      "metadata": {
        "colab": {
          "base_uri": "https://localhost:8080/"
        },
        "id": "byCIiLJBbFHh",
        "outputId": "96c65a7b-91fd-4308-88e8-ecb182f38db1"
      },
      "source": [
        "# data dir\n",
        "data_dir = '/content/drive/MyDrive/NLP/data'\n",
        "os.listdir(data_dir)"
      ],
      "execution_count": 9,
      "outputs": [
        {
          "output_type": "execute_result",
          "data": {
            "text/plain": [
              "['kowiki', 'ko_32000.model', '.ipynb_checkpoints', 'ko_32000.vocab']"
            ]
          },
          "metadata": {
            "tags": []
          },
          "execution_count": 9
        }
      ]
    },
    {
      "cell_type": "code",
      "metadata": {
        "id": "2H0BLydCb7lg",
        "colab": {
          "base_uri": "https://localhost:8080/"
        },
        "outputId": "94d448bf-c96e-4abb-8541-cd4b80d9ce3e"
      },
      "source": [
        "# kowiki dir\n",
        "kowiki_dir = os.path.join(data_dir, 'kowiki')\n",
        "if not os.path.exists(kowiki_dir):\n",
        "    os.makedirs(kowiki_dir)\n",
        "os.listdir(kowiki_dir)"
      ],
      "execution_count": 10,
      "outputs": [
        {
          "output_type": "execute_result",
          "data": {
            "text/plain": [
              "['kowiki.txt.zip', '.ipynb_checkpoints', 'my_corpus.txt']"
            ]
          },
          "metadata": {
            "tags": []
          },
          "execution_count": 10
        }
      ]
    },
    {
      "cell_type": "markdown",
      "metadata": {
        "id": "sEbpKyPxz6qs"
      },
      "source": [
        "# Corpus"
      ]
    },
    {
      "cell_type": "code",
      "metadata": {
        "id": "j3xx7dJYz9jt"
      },
      "source": [
        "text = \"\"\"위키백과의 최상위 도메인이 .com이던 시절 ko.wikipedia.com에 구판 미디어위키가 깔렸으나 한글 처리에 문제가 있어 글을 올릴 수도 없는 이름뿐인 곳이었다. 2002년 10월에 새로운 위키 소프트웨어를 쓰면서 한글 처리 문제가 풀리기 시작했지만, 가장 많은 사람이 쓰는 인터넷 익스플로러에서는 인코딩 문제가 여전했다. 이런 이유로 초기에는 도움말을 옮기거나 쓰는 일에 어려움을 겪었다. 이런 어려움이 있었는데도 위키백과 통계로는, 2002년 10월에서 2003년 7월까지 열 달 사이에 글이 13개에서 159개로 늘었고 2003년 7월과 8월 사이에는 한 달 만에 159개에서 348개로 늘어났다. 2003년 9월부터는 인터넷 익스플로러의 인코딩 문제가 사라졌으며, 대한민국 언론에서도 몇 차례 위키백과를 소개하면서 참여자가 점증하리라고 예측했다. 참고로 한국어 위키백과의 최초 문서는 2002년 10월 12일에 등재된 지미 카터 문서이다.\n",
        "2005년 6월 5일 양자장론 문서 등재를 기점으로 총 등재 문서 수가 1만 개를 돌파하였고 이어 동해 11월에 제1회 정보트러스트 어워드 인터넷 문화 일반 분야에 선정되었다. 2007년 8월 9일에는 한겨레21에서 한국어 위키백과와 위키백과 오프라인 첫 모임을 취재한 기사를 표지 이야기로 다루었다.\n",
        "2008년 광우병 촛불 시위 때 생긴 신조어인 명박산성이 한국어 위키백과에 등재되고 이 문서의 존치 여부를 두고 갑론을박의 과정이 화제가 되고 각종 매체에도 보도가 되었다. 시위대의 난입과 충돌을 방지하기 위해 거리에 설치되었던 컨테이너 박스를 이명박 정부의 불통으로 풍자를 하기 위해 사용된 이 신조어는 중립성을 지켰는지와 백과사전에 올라올 만한 문서인지가 쟁점이 되었는데 일시적으로 사용된 신조어일 뿐이라는 주장과 이미 여러 매체에서 사용되어 지속성이 보장되었다는 주장 등 논쟁이 벌어졌고 다음 아고라 등지에서 이 항목을 존치하는 방안을 지지하는 의견을 남기기 위해 여러 사람이 새로 가입하는 등 혼란이 빚어졌다. 11월 4일에는 다음커뮤니케이션에서 글로벌 세계 대백과사전을 기증받았으며, 2009년 3월에는 서울특별시로부터 콘텐츠를 기증받았다. 2009년 6월 4일에는 액세스권 등재를 기점으로 10만 개 문서 수를 돌파했다.\n",
        "2011년 4월 16일에는 대한민국에서의 위키미디어 프로젝트를 지원하는 모임을 결성할 것을 추진하는 논의가 이뤄졌고 이후 창립준비위원회 결성을 거쳐 2014년 10월 19일 창립총회를 개최하였으며, 최종적으로 2015년 11월 4일 사단법인 한국 위키미디어 협회가 결성되어 활동 중에 있다. 2019년 미국 위키미디어재단으로부터 한국 지역 지부(챕터)로 승인을 받았다.\n",
        "2012년 5월 19일에는 보비 탬블링 등재를 기점으로 총 20만 개 문서가 등재되었고 2015년 1월 5일, Rojo -Tierra- 문서 등재를 기점으로 총 30만 개 문서가 등재되었다. 2017년 10월 21일에는 충청남도 동물위생시험소 문서 등재로 40만 개의 문서까지 등재되었다.\"\"\""
      ],
      "execution_count": 11,
      "outputs": []
    },
    {
      "cell_type": "markdown",
      "metadata": {
        "id": "b7GZHAJc8R1W"
      },
      "source": [
        "# Google sentencepiece를 이용해 vocab 생성\n",
        "- https://github.com/google/sentencepiece"
      ]
    },
    {
      "cell_type": "markdown",
      "metadata": {
        "id": "_8ajMz_ZCCxs"
      },
      "source": [
        "## sentencepe 학습"
      ]
    },
    {
      "cell_type": "code",
      "metadata": {
        "id": "jQKAKbPN6miL",
        "colab": {
          "base_uri": "https://localhost:8080/"
        },
        "outputId": "a18ddd02-6504-4325-e048-50540b832b43"
      },
      "source": [
        "os.listdir(kowiki_dir)"
      ],
      "execution_count": 12,
      "outputs": [
        {
          "output_type": "execute_result",
          "data": {
            "text/plain": [
              "['kowiki.txt.zip', '.ipynb_checkpoints', 'my_corpus.txt']"
            ]
          },
          "metadata": {
            "tags": []
          },
          "execution_count": 12
        }
      ]
    },
    {
      "cell_type": "code",
      "metadata": {
        "id": "d99Y3Fkdvftw",
        "colab": {
          "base_uri": "https://localhost:8080/"
        },
        "outputId": "f3b7e960-7039-43d7-c4c7-3e0de35ff7c7"
      },
      "source": [
        "shutil.copy(os.path.join(kowiki_dir, 'my_corpus.txt'), './')\n",
        "os.listdir('./')"
      ],
      "execution_count": 13,
      "outputs": [
        {
          "output_type": "execute_result",
          "data": {
            "text/plain": [
              "['.config', 'drive', 'my_corpus.txt', 'sample_data']"
            ]
          },
          "metadata": {
            "tags": []
          },
          "execution_count": 13
        }
      ]
    },
    {
      "cell_type": "code",
      "metadata": {
        "id": "IwDPlGeeCF70"
      },
      "source": [
        "def train_sentencepiece(corpus, prefix, vocab_size=32000):\n",
        "    \"\"\"\n",
        "    sentencepiece를 이용해 vocab 학습\n",
        "    :param corpus: 학습할 말뭉치\n",
        "    :param prefix: 저장할 vocab 이름\n",
        "    :param vocab_size: vocab 개수\n",
        "    \"\"\"\n",
        "    spm.SentencePieceTrainer.train(\n",
        "        f\"--input={corpus} --model_prefix={prefix} --vocab_size={vocab_size + 7}\" +  # 7은 특수문자 개수\n",
        "        \" --model_type=unigram\" +\n",
        "        \" --max_sentence_length=999999\" +  # 문장 최대 길이\n",
        "        \" --pad_id=0 --pad_piece=[PAD]\" +  # pad token 및 id 지정\n",
        "        \" --unk_id=1 --unk_piece=[UNK]\" +  # unknown token 및 id 지정\n",
        "        \" --bos_id=2 --bos_piece=[BOS]\" +  # begin of sequence token 및 id 지정\n",
        "        \" --eos_id=3 --eos_piece=[EOS]\" +  # end of sequence token 및 id 지정\n",
        "        \" --user_defined_symbols=[SEP],[CLS],[MASK]\")  # 기타 추가 토큰 SEP: 4, CLS: 5, MASK: 6"
      ],
      "execution_count": 14,
      "outputs": []
    },
    {
      "cell_type": "code",
      "metadata": {
        "id": "CE-yJ_cSCYz0"
      },
      "source": [
        "# vocab 생성\n",
        "train_sentencepiece(f\"my_corpus.txt\", f\"my_vocab\", vocab_size=512) # 내가 넣은 text data(my_corpus.txt)로 my_vocab model 생성"
      ],
      "execution_count": 29,
      "outputs": []
    },
    {
      "cell_type": "code",
      "metadata": {
        "id": "85eoYIgZNtYa",
        "colab": {
          "base_uri": "https://localhost:8080/"
        },
        "outputId": "556b0a12-6bdb-4c5f-b5b5-90064a0be5d6"
      },
      "source": [
        "os.listdir(\".\") # my_vocab.vocab, my_vocab.model 생성"
      ],
      "execution_count": 17,
      "outputs": [
        {
          "output_type": "execute_result",
          "data": {
            "text/plain": [
              "['.config',\n",
              " 'drive',\n",
              " 'my_vocab.vocab',\n",
              " 'my_corpus.txt',\n",
              " 'my_vocab.model',\n",
              " 'sample_data']"
            ]
          },
          "metadata": {
            "tags": []
          },
          "execution_count": 17
        }
      ]
    },
    {
      "cell_type": "markdown",
      "metadata": {
        "id": "zeBCtb61bG8Y"
      },
      "source": [
        "## sentencepe 확인"
      ]
    },
    {
      "cell_type": "code",
      "metadata": {
        "id": "ySjtyzUGbLwg",
        "colab": {
          "base_uri": "https://localhost:8080/"
        },
        "outputId": "825bf761-23a3-41f9-8528-5553a949d7e0"
      },
      "source": [
        "# load vocab\n",
        "vocab = spm.SentencePieceProcessor()\n",
        "vocab.load(f\"my_vocab.model\")"
      ],
      "execution_count": 32,
      "outputs": [
        {
          "output_type": "execute_result",
          "data": {
            "text/plain": [
              "True"
            ]
          },
          "metadata": {
            "tags": []
          },
          "execution_count": 32
        }
      ]
    },
    {
      "cell_type": "code",
      "metadata": {
        "id": "nJrlfRqObeEI",
        "colab": {
          "base_uri": "https://localhost:8080/"
        },
        "outputId": "d5ac1721-a9bb-4083-f1b1-1849817ad975"
      },
      "source": [
        "# vocab 출력\n",
        "print(f\"len: {len(vocab)}\")\n",
        "for id in range(30):\n",
        "    print(f\"{id:2d}: {vocab.id_to_piece(id)}\")"
      ],
      "execution_count": 30,
      "outputs": [
        {
          "output_type": "stream",
          "text": [
            "len: 519\n",
            " 0: [PAD]\n",
            " 1: [UNK]\n",
            " 2: [BOS]\n",
            " 3: [EOS]\n",
            " 4: [SEP]\n",
            " 5: [CLS]\n",
            " 6: [MASK]\n",
            " 7: ▁\n",
            " 8: 이\n",
            " 9: 을\n",
            "10: .\n",
            "11: 는\n",
            "12: 의\n",
            "13: 고\n",
            "14: ,\n",
            "15: 다\n",
            "16: 를\n",
            "17: 에\n",
            "18: 해\n",
            "19: 하\n",
            "20: 한\n",
            "21: 은\n",
            "22: 지\n",
            "23: 도\n",
            "24: 기\n",
            "25: 로\n",
            "26: 가\n",
            "27: 인\n",
            "28: 나\n",
            "29: 할\n"
          ],
          "name": "stdout"
        }
      ]
    },
    {
      "cell_type": "code",
      "metadata": {
        "id": "JWlGnwd9bh67",
        "colab": {
          "base_uri": "https://localhost:8080/"
        },
        "outputId": "bde9612b-6466-4d14-ad8c-1be808c4b689"
      },
      "source": [
        "# text를 tokenize 함\n",
        "# sentence to pieces\n",
        "pieces = vocab.encode_as_pieces(text)\n",
        "print(pieces[0:100])"
      ],
      "execution_count": 20,
      "outputs": [
        {
          "output_type": "stream",
          "text": [
            "['▁', '위', '키', '백', '과', '의', '▁', '최', '상', '위', '▁', '도', '메', '인', '이', '▁', '.', 'c', 'o', 'm', '이', '던', '▁', '시', '절', '▁', 'k', 'o', '.', 'w', 'i', 'k', 'i', 'p', 'e', 'd', 'i', 'a', '.', 'c', 'o', 'm', '에', '▁', '구', '판', '▁', '미', '디', '어', '위', '키', '가', '▁', '깔', '렸', '으', '나', '▁', '한', '글', '▁', '처', '리', '에', '▁', '문', '제', '가', '▁', '있', '어', '▁', '글', '을', '▁', '올', '릴', '▁', '수', '도', '▁', '없', '는', '▁', '이', '름', '뿐', '인', '▁', '곳', '이', '었', '다', '.', '▁', '2', '0', '0', '2']\n"
          ],
          "name": "stdout"
        }
      ]
    },
    {
      "cell_type": "code",
      "metadata": {
        "id": "D1lUjSWh_MRX",
        "colab": {
          "base_uri": "https://localhost:8080/"
        },
        "outputId": "5012a84c-e9c9-4e6f-97bc-f06aa221909e"
      },
      "source": [
        "vocab.encode_as_pieces(\"나는 오늘 수원에 놀러 갔다.\")"
      ],
      "execution_count": 21,
      "outputs": [
        {
          "output_type": "execute_result",
          "data": {
            "text/plain": [
              "['▁',\n",
              " '나',\n",
              " '는',\n",
              " '▁',\n",
              " '오',\n",
              " '늘',\n",
              " '▁',\n",
              " '수',\n",
              " '원',\n",
              " '에',\n",
              " '▁',\n",
              " '놀',\n",
              " '러',\n",
              " '▁',\n",
              " '갔',\n",
              " '다',\n",
              " '.']"
            ]
          },
          "metadata": {
            "tags": []
          },
          "execution_count": 21
        }
      ]
    },
    {
      "cell_type": "code",
      "metadata": {
        "id": "0aaBGd8R_Ue3",
        "colab": {
          "base_uri": "https://localhost:8080/"
        },
        "outputId": "7512a046-5297-432c-ed57-f2c1a560ef6e"
      },
      "source": [
        "vocab.encode_as_pieces(\"나는 오늘 배가많이고파서밥을많이먹은후 놀러 갔다.\")"
      ],
      "execution_count": 22,
      "outputs": [
        {
          "output_type": "execute_result",
          "data": {
            "text/plain": [
              "['▁',\n",
              " '나',\n",
              " '는',\n",
              " '▁',\n",
              " '오',\n",
              " '늘',\n",
              " '▁',\n",
              " '배',\n",
              " '가',\n",
              " '많',\n",
              " '이',\n",
              " '고',\n",
              " '파',\n",
              " '서',\n",
              " '밥',\n",
              " '을',\n",
              " '많',\n",
              " '이',\n",
              " '먹',\n",
              " '은',\n",
              " '후',\n",
              " '▁',\n",
              " '놀',\n",
              " '러',\n",
              " '▁',\n",
              " '갔',\n",
              " '다',\n",
              " '.']"
            ]
          },
          "metadata": {
            "tags": []
          },
          "execution_count": 22
        }
      ]
    },
    {
      "cell_type": "code",
      "metadata": {
        "id": "n2PsfHS7bt6j",
        "colab": {
          "base_uri": "https://localhost:8080/",
          "height": 154
        },
        "outputId": "2612eef2-41e5-4a30-dd66-109144b0e473"
      },
      "source": [
        "# tokenize된 값을 string 으로 복원\n",
        "# pieces to sentence\n",
        "vocab.decode_pieces(pieces)"
      ],
      "execution_count": 23,
      "outputs": [
        {
          "output_type": "execute_result",
          "data": {
            "application/vnd.google.colaboratory.intrinsic+json": {
              "type": "string"
            },
            "text/plain": [
              "'위키백과의 최상위 도메인이 .com이던 시절 ko.wikipedia.com에 구판 미디어위키가 깔렸으나 한글 처리에 문제가 있어 글을 올릴 수도 없는 이름뿐인 곳이었다. 2002년 10월에 새로운 위키 소프트웨어를 쓰면서 한글 처리 문제가 풀리기 시작했지만, 가장 많은 사람이 쓰는 인터넷 익스플로러에서는 인코딩 문제가 여전했다. 이런 이유로 초기에는 도움말을 옮기거나 쓰는 일에 어려움을 겪었다. 이런 어려움이 있었는데도 위키백과 통계로는, 2002년 10월에서 2003년 7월까지 열 달 사이에 글이 13개에서 159개로 늘었고 2003년 7월과 8월 사이에는 한 달 만에 159개에서 348개로 늘어났다. 2003년 9월부터는 인터넷 익스플로러의 인코딩 문제가 사라졌으며, 대한민국 언론에서도 몇 차례 위키백과를 소개하면서 참여자가 점증하리라고 예측했다. 참고로 한국어 위키백과의 최초 문서는 2002년 10월 12일에 등재된 지미 카터 문서이다. 2005년 6월 5일 양자장론 문서 등재를 기점으로 총 등재 문서 수가 1만 개를 돌파하였고 이어 동해 11월에 제1회 정보트러스트 어워드 인터넷 문화 일반 분야에 선정되었다. 2007년 8월 9일에는 한겨레21에서 한국어 위키백과와 위키백과 오프라인 첫 모임을 취재한 기사를 표지 이야기로 다루었다. 2008년 광우병 촛불 시위 때 생긴 신조어인 명박산성이 한국어 위키백과에 등재되고 이 문서의 존치 여부를 두고 갑론을박의 과정이 화제가 되고 각종 매체에도 보도가 되었다. 시위대의 난입과 충돌을 방지하기 위해 거리에 설치되었던 컨테이너 박스를 이명박 정부의 불통으로 풍자를 하기 위해 사용된 이 신조어는 중립성을 지켰는지와 백과사전에 올라올 만한 문서인지가 쟁점이 되었는데 일시적으로 사용된 신조어일 뿐이라는 주장과 이미 여러 매체에서 사용되어 지속성이 보장되었다는 주장 등 논쟁이 벌어졌고 다음 아고라 등지에서 이 항목을 존치하는 방안을 지지하는 의견을 남기기 위해 여러 사람이 새로 가입하는 등 혼란이 빚어졌다. 11월 4일에는 다음커뮤니케이션에서 글로벌 세계 대백과사전을 기증받았으며, 2009년 3월에는 서울특별시로부터 콘텐츠를 기증받았다. 2009년 6월 4일에는 액세스권 등재를 기점으로 10만 개 문서 수를 돌파했다. 2011년 4월 16일에는 대한민국에서의 위키미디어 프로젝트를 지원하는 모임을 결성할 것을 추진하는 논의가 이뤄졌고 이후 창립준비위원회 결성을 거쳐 2014년 10월 19일 창립총회를 개최하였으며, 최종적으로 2015년 11월 4일 사단법인 한국 위키미디어 협회가 결성되어 활동 중에 있다. 2019년 미국 위키미디어재단으로부터 한국 지역 지부(챕터)로 승인을 받았다. 2012년 5월 19일에는 보비 탬블링 등재를 기점으로 총 20만 개 문서가 등재되었고 2015년 1월 5일, Rojo -Tierra- 문서 등재를 기점으로 총 30만 개 문서가 등재되었다. 2017년 10월 21일에는 충청남도 동물위생시험소 문서 등재로 40만 개의 문서까지 등재되었다.'"
            ]
          },
          "metadata": {
            "tags": []
          },
          "execution_count": 23
        }
      ]
    },
    {
      "cell_type": "code",
      "metadata": {
        "id": "U2NoPR4Tb5GB",
        "colab": {
          "base_uri": "https://localhost:8080/"
        },
        "outputId": "96e93553-92a2-4726-898e-1293a33e5e4d"
      },
      "source": [
        "# tokenize된 값을 id로 변경\n",
        "# piece to id\n",
        "piece_ids = []\n",
        "for piece in pieces:\n",
        "    piece_ids.append(vocab.piece_to_id(piece))\n",
        "piece_ids[0:100]"
      ],
      "execution_count": 24,
      "outputs": [
        {
          "output_type": "execute_result",
          "data": {
            "text/plain": [
              "[7,\n",
              " 235,\n",
              " 123,\n",
              " 455,\n",
              " 40,\n",
              " 12,\n",
              " 7,\n",
              " 377,\n",
              " 96,\n",
              " 235,\n",
              " 7,\n",
              " 23,\n",
              " 144,\n",
              " 27,\n",
              " 8,\n",
              " 7,\n",
              " 10,\n",
              " 1,\n",
              " 279,\n",
              " 1,\n",
              " 8,\n",
              " 257,\n",
              " 7,\n",
              " 30,\n",
              " 321,\n",
              " 7,\n",
              " 405,\n",
              " 279,\n",
              " 10,\n",
              " 254,\n",
              " 178,\n",
              " 405,\n",
              " 178,\n",
              " 1,\n",
              " 122,\n",
              " 328,\n",
              " 178,\n",
              " 134,\n",
              " 10,\n",
              " 1,\n",
              " 279,\n",
              " 1,\n",
              " 17,\n",
              " 7,\n",
              " 100,\n",
              " 246,\n",
              " 7,\n",
              " 140,\n",
              " 172,\n",
              " 43,\n",
              " 235,\n",
              " 123,\n",
              " 26,\n",
              " 7,\n",
              " 416,\n",
              " 1,\n",
              " 518,\n",
              " 28,\n",
              " 7,\n",
              " 20,\n",
              " 229,\n",
              " 7,\n",
              " 300,\n",
              " 50,\n",
              " 17,\n",
              " 7,\n",
              " 86,\n",
              " 84,\n",
              " 26,\n",
              " 7,\n",
              " 386,\n",
              " 43,\n",
              " 7,\n",
              " 229,\n",
              " 9,\n",
              " 7,\n",
              " 396,\n",
              " 1,\n",
              " 7,\n",
              " 95,\n",
              " 23,\n",
              " 7,\n",
              " 201,\n",
              " 11,\n",
              " 7,\n",
              " 8,\n",
              " 1,\n",
              " 462,\n",
              " 27,\n",
              " 7,\n",
              " 1,\n",
              " 8,\n",
              " 362,\n",
              " 15,\n",
              " 10,\n",
              " 7,\n",
              " 383,\n",
              " 108,\n",
              " 108,\n",
              " 383]"
            ]
          },
          "metadata": {
            "tags": []
          },
          "execution_count": 24
        }
      ]
    },
    {
      "cell_type": "code",
      "metadata": {
        "id": "A6PGUrK9cHxZ",
        "colab": {
          "base_uri": "https://localhost:8080/"
        },
        "outputId": "a6749ec1-6cef-49fe-b4ff-b759fb45ad11"
      },
      "source": [
        "# text를 id로 tokenize 함\n",
        "# sentence to ids\n",
        "ids = vocab.encode_as_ids(text)\n",
        "ids[0:100]"
      ],
      "execution_count": 25,
      "outputs": [
        {
          "output_type": "execute_result",
          "data": {
            "text/plain": [
              "[7,\n",
              " 235,\n",
              " 123,\n",
              " 455,\n",
              " 40,\n",
              " 12,\n",
              " 7,\n",
              " 377,\n",
              " 96,\n",
              " 235,\n",
              " 7,\n",
              " 23,\n",
              " 144,\n",
              " 27,\n",
              " 8,\n",
              " 7,\n",
              " 10,\n",
              " 1,\n",
              " 279,\n",
              " 1,\n",
              " 8,\n",
              " 257,\n",
              " 7,\n",
              " 30,\n",
              " 321,\n",
              " 7,\n",
              " 405,\n",
              " 279,\n",
              " 10,\n",
              " 254,\n",
              " 178,\n",
              " 405,\n",
              " 178,\n",
              " 1,\n",
              " 122,\n",
              " 328,\n",
              " 178,\n",
              " 134,\n",
              " 10,\n",
              " 1,\n",
              " 279,\n",
              " 1,\n",
              " 17,\n",
              " 7,\n",
              " 100,\n",
              " 246,\n",
              " 7,\n",
              " 140,\n",
              " 172,\n",
              " 43,\n",
              " 235,\n",
              " 123,\n",
              " 26,\n",
              " 7,\n",
              " 416,\n",
              " 1,\n",
              " 518,\n",
              " 28,\n",
              " 7,\n",
              " 20,\n",
              " 229,\n",
              " 7,\n",
              " 300,\n",
              " 50,\n",
              " 17,\n",
              " 7,\n",
              " 86,\n",
              " 84,\n",
              " 26,\n",
              " 7,\n",
              " 386,\n",
              " 43,\n",
              " 7,\n",
              " 229,\n",
              " 9,\n",
              " 7,\n",
              " 396,\n",
              " 1,\n",
              " 7,\n",
              " 95,\n",
              " 23,\n",
              " 7,\n",
              " 201,\n",
              " 11,\n",
              " 7,\n",
              " 8,\n",
              " 1,\n",
              " 462,\n",
              " 27,\n",
              " 7,\n",
              " 1,\n",
              " 8,\n",
              " 362,\n",
              " 15,\n",
              " 10,\n",
              " 7,\n",
              " 383,\n",
              " 108,\n",
              " 108,\n",
              " 383]"
            ]
          },
          "metadata": {
            "tags": []
          },
          "execution_count": 25
        }
      ]
    },
    {
      "cell_type": "code",
      "metadata": {
        "id": "xyUkoxCpcUBj",
        "colab": {
          "base_uri": "https://localhost:8080/",
          "height": 154
        },
        "outputId": "1df105cc-d52f-44b5-88f7-3389822a9ad2"
      },
      "source": [
        "# tokenize된 id 값을 string 으로 복원\n",
        "# id to sentence\n",
        "vocab.decode_ids(ids)"
      ],
      "execution_count": 26,
      "outputs": [
        {
          "output_type": "execute_result",
          "data": {
            "application/vnd.google.colaboratory.intrinsic+json": {
              "type": "string"
            },
            "text/plain": [
              "'위키백과의 최상위 도메인이 . ⁇ o ⁇ 이던 시절 ko.wiki ⁇ edia. ⁇ o ⁇ 에 구판 미디어위키가 깔 ⁇ 으나 한글 처리에 문제가 있어 글을 올 ⁇  수도 없는 이 ⁇ 뿐인  ⁇ 이었다. 2002년 10월에  ⁇ 로운 위키 소프트웨어를  ⁇ 면서 한글 처리 문제가 풀리기 시작했지만, 가장 많은 사람이  ⁇ 는 인터넷 익스플로러에서는 인코딩 문제가 여전했다. 이런 이유로 초기에는 도움말을  ⁇ 기거나  ⁇ 는 일에 어려움을  ⁇ 었다. 이런 어려움이 있었는데도 위키백과 통계로는, 2002년 10월에서 2003년 7월까지 열 달 사이에 글이 13개에서 159개로 늘었고 2003년 7월과 8월 사이에는 한 달 만에 159개에서 348개로 늘어났다. 2003년 9월부터는 인터넷 익스플로러의 인코딩 문제가 사라졌으며, 대한민국 언론에서도 몇 차례 위키백과를 소개하면서 참여자가 점증하리라고 예측했다. 참고로 한국어 위키백과의 최초 문서는 2002년 10월 12일에 등재된 지미 카터 문서이다. 2005년 6월 5일 양자장론 문서 등재를 기점으로  ⁇  등재 문서 수가 1만 개를  ⁇ 파하 ⁇ 고 이어 동해 11월에 제1회 정보트러스트 어워드 인터넷 문화 일반 분야에 선정되었다. 2007년 8월 9일에는 한겨레21에서 한국어 위키백과와 위키백과 오프라인  ⁇  모임을  ⁇ 재한 기사를 표지 이야기로 다루었다. 2008년  ⁇ 우병  ⁇ 불 시위 때 생 ⁇  신조어인 명박산성이 한국어 위키백과에 등재되고 이 문서의 존치 여부를 두고  ⁇ 론을박의 과정이 화제가 되고 각종 매체에도 보도가 되었다. 시위대의 난입과 충 ⁇ 을 방지하기 위해 거리에 설치되었던 컨 ⁇ 이너 박스를 이명박 정부의 불통으로  ⁇ 자를 하기 위해 사용된 이 신조어는 중립성을 지켰는지와 백과사전에 올라올 만한 문서인지가 쟁점이 되었는데 일시적으로 사용된 신조어일 뿐이라는 주장과 이미 여러 매체에서 사용되어 지속성이 보장되었다는 주장 등  ⁇ 쟁이 벌어졌고 다음 아고라 등지에서 이 항목을 존치하는 방안을 지지하는 의견을 남기기 위해 여러 사람이  ⁇ 로 가입하는 등  ⁇ 란이  ⁇ 어졌다. 11월 4일에는 다음커 ⁇ 니 ⁇ 이 ⁇ 에서 글로벌 세계 대백과사전을 기증받았으며, 2009년 3월에는 서울특별시로부터  ⁇ 를 기증받았다. 2009년 6월 4일에는  ⁇ 세스권 등재를 기점으로 10만 개 문서 수를  ⁇ 파했다. 2011년 4월 16일에는 대한민국에서의 위키미디어 프로젝트를 지원하는 모임을 결성할 것을 추진하는  ⁇ 의가 이 ⁇ 졌고 이후 창립준비위원회 결성을 거 ⁇  2014년 10월 19일 창립 ⁇ 회를 개최하 ⁇ 으며, 최종적으로 2015년 11월 4일 사단법인 한국 위키미디어 협회가 결성되어 활동 중에 있다. 2019년 미국 위키미디어재단으로부터 한국 지역 지부( ⁇ 터)로 승인을 받았다. 2012년 5월 19일에는 보비  ⁇ 블 ⁇  등재를 기점으로  ⁇  20만 개 문서가 등재되었고 2015년 1월 5일, Ro ⁇ o  ⁇ Tierra ⁇  문서 등재를 기점으로  ⁇  30만 개 문서가 등재되었다. 2017년 10월 21일에는 충 ⁇ 남도 동물위생시 ⁇ 소 문서 등재로 40만 개의 문서까지 등재되었다.'"
            ]
          },
          "metadata": {
            "tags": []
          },
          "execution_count": 26
        }
      ]
    },
    {
      "cell_type": "code",
      "metadata": {
        "id": "XaPhB9Cjcbmi",
        "colab": {
          "base_uri": "https://localhost:8080/"
        },
        "outputId": "d1165012-f58c-45b6-cfac-28a6f3e3266c"
      },
      "source": [
        "# id 값을 token으로 변경\n",
        "# id to piece\n",
        "id_pieces = []\n",
        "for id in ids:\n",
        "    id_pieces.append(vocab.id_to_piece(id))\n",
        "id_pieces[0:100]"
      ],
      "execution_count": 27,
      "outputs": [
        {
          "output_type": "execute_result",
          "data": {
            "text/plain": [
              "['▁',\n",
              " '위',\n",
              " '키',\n",
              " '백',\n",
              " '과',\n",
              " '의',\n",
              " '▁',\n",
              " '최',\n",
              " '상',\n",
              " '위',\n",
              " '▁',\n",
              " '도',\n",
              " '메',\n",
              " '인',\n",
              " '이',\n",
              " '▁',\n",
              " '.',\n",
              " '[UNK]',\n",
              " 'o',\n",
              " '[UNK]',\n",
              " '이',\n",
              " '던',\n",
              " '▁',\n",
              " '시',\n",
              " '절',\n",
              " '▁',\n",
              " 'k',\n",
              " 'o',\n",
              " '.',\n",
              " 'w',\n",
              " 'i',\n",
              " 'k',\n",
              " 'i',\n",
              " '[UNK]',\n",
              " 'e',\n",
              " 'd',\n",
              " 'i',\n",
              " 'a',\n",
              " '.',\n",
              " '[UNK]',\n",
              " 'o',\n",
              " '[UNK]',\n",
              " '에',\n",
              " '▁',\n",
              " '구',\n",
              " '판',\n",
              " '▁',\n",
              " '미',\n",
              " '디',\n",
              " '어',\n",
              " '위',\n",
              " '키',\n",
              " '가',\n",
              " '▁',\n",
              " '깔',\n",
              " '[UNK]',\n",
              " '으',\n",
              " '나',\n",
              " '▁',\n",
              " '한',\n",
              " '글',\n",
              " '▁',\n",
              " '처',\n",
              " '리',\n",
              " '에',\n",
              " '▁',\n",
              " '문',\n",
              " '제',\n",
              " '가',\n",
              " '▁',\n",
              " '있',\n",
              " '어',\n",
              " '▁',\n",
              " '글',\n",
              " '을',\n",
              " '▁',\n",
              " '올',\n",
              " '[UNK]',\n",
              " '▁',\n",
              " '수',\n",
              " '도',\n",
              " '▁',\n",
              " '없',\n",
              " '는',\n",
              " '▁',\n",
              " '이',\n",
              " '[UNK]',\n",
              " '뿐',\n",
              " '인',\n",
              " '▁',\n",
              " '[UNK]',\n",
              " '이',\n",
              " '었',\n",
              " '다',\n",
              " '.',\n",
              " '▁',\n",
              " '2',\n",
              " '0',\n",
              " '0',\n",
              " '2']"
            ]
          },
          "metadata": {
            "tags": []
          },
          "execution_count": 27
        }
      ]
    },
    {
      "cell_type": "code",
      "metadata": {
        "id": "bPe2xTM1FnoI"
      },
      "source": [
        ""
      ],
      "execution_count": null,
      "outputs": []
    }
  ]
}