{
  "nbformat": 4,
  "nbformat_minor": 0,
  "metadata": {
    "colab": {
      "name": "01-02-simple-project-강의.ipynb",
      "provenance": [],
      "collapsed_sections": [
        "BuaFwJqDVumT",
        "fZ8E9T0WQAXW"
      ],
      "include_colab_link": true
    },
    "kernelspec": {
      "name": "python3",
      "display_name": "Python 3"
    },
    "accelerator": "GPU"
  },
  "cells": [
    {
      "cell_type": "markdown",
      "metadata": {
        "id": "view-in-github",
        "colab_type": "text"
      },
      "source": [
        "<a href=\"https://colab.research.google.com/github/ujin2021/NLP_CAMP/blob/main/day1/01_02_simple_project_%EA%B0%95%EC%9D%98.ipynb\" target=\"_parent\"><img src=\"https://colab.research.google.com/assets/colab-badge.svg\" alt=\"Open In Colab\"/></a>"
      ]
    },
    {
      "cell_type": "markdown",
      "metadata": {
        "id": "BuaFwJqDVumT"
      },
      "source": [
        "# EVN"
      ]
    },
    {
      "cell_type": "code",
      "metadata": {
        "id": "ODiNPGQ9VwLK"
      },
      "source": [
        "import numpy as np\n",
        "import matplotlib.pyplot as plt\n",
        "\n",
        "import tensorflow as tf"
      ],
      "execution_count": null,
      "outputs": []
    },
    {
      "cell_type": "markdown",
      "metadata": {
        "id": "sFo_3tAlzneI"
      },
      "source": [
        "# 단어 긍정(2), 중립(1), 부정(0) 분류 프로젝트"
      ]
    },
    {
      "cell_type": "markdown",
      "metadata": {
        "id": "erIr-mg8zneJ"
      },
      "source": [
        "## 데이터"
      ]
    },
    {
      "cell_type": "code",
      "metadata": {
        "id": "KQqU4MBIzneJ"
      },
      "source": [
        "# 입력 문장 - data\n",
        "sentences = [\n",
        "    '나는 오늘 기분이 좋아',\n",
        "    '나는 오늘 우울해'\n",
        "]\n",
        "\n",
        "# 출력 정답 - vocabulary  생성(글자를 숫자로)\n",
        "labels = [[1, 1, 1, 2],\n",
        "          [1, 1, 0]]  # 긍정(2), 중립(1), 부정(0)\n",
        "\n",
        "# 정답 dic\n",
        "id_to_label = {0: '부정', 1: '중립', 2: '긍정'}"
      ],
      "execution_count": null,
      "outputs": []
    },
    {
      "cell_type": "code",
      "metadata": {
        "colab": {
          "base_uri": "https://localhost:8080/",
          "height": 35
        },
        "id": "zDjNga3vVSKU",
        "outputId": "b1d8f053-5985-4dfc-99ca-a2733e5d6a47"
      },
      "source": [
        "id_to_label[1]"
      ],
      "execution_count": null,
      "outputs": [
        {
          "output_type": "execute_result",
          "data": {
            "application/vnd.google.colaboratory.intrinsic+json": {
              "type": "string"
            },
            "text/plain": [
              "'중립'"
            ]
          },
          "metadata": {
            "tags": []
          },
          "execution_count": 5
        }
      ]
    },
    {
      "cell_type": "code",
      "metadata": {
        "colab": {
          "base_uri": "https://localhost:8080/"
        },
        "id": "mXc1YkoGVaDH",
        "outputId": "4d799a20-2d71-4772-a9ba-2978a8f27678"
      },
      "source": [
        "sentences"
      ],
      "execution_count": null,
      "outputs": [
        {
          "output_type": "execute_result",
          "data": {
            "text/plain": [
              "['나는 오늘 기분이 좋아', '나는 오늘 우울해']"
            ]
          },
          "metadata": {
            "tags": []
          },
          "execution_count": 6
        }
      ]
    },
    {
      "cell_type": "markdown",
      "metadata": {
        "id": "wS_edoagzneJ"
      },
      "source": [
        "## Vocabulary"
      ]
    },
    {
      "cell_type": "markdown",
      "metadata": {
        "id": "RGxrtYc1XmOK"
      },
      "source": [
        "* 띄어쓰기 단위로 분할\r\n",
        "* 각 vocab에 고유한 번호 부여"
      ]
    },
    {
      "cell_type": "code",
      "metadata": {
        "colab": {
          "base_uri": "https://localhost:8080/"
        },
        "id": "bBdf_Y4uWM-9",
        "outputId": "863adfe0-083f-41b7-e190-c559fd58b8e0"
      },
      "source": [
        "# 각 문장을 띄어쓰기 단위로 분할\r\n",
        "words = []\r\n",
        "for sentence in sentences:\r\n",
        "  words.extend(sentence.split()) # extend : 한 배열로 합쳐지는 것\r\n",
        "words"
      ],
      "execution_count": null,
      "outputs": [
        {
          "output_type": "execute_result",
          "data": {
            "text/plain": [
              "['나는', '오늘', '기분이', '좋아', '나는', '오늘', '우울해']"
            ]
          },
          "metadata": {
            "tags": []
          },
          "execution_count": 7
        }
      ]
    },
    {
      "cell_type": "code",
      "metadata": {
        "colab": {
          "base_uri": "https://localhost:8080/"
        },
        "id": "pDPylwHCWsR6",
        "outputId": "1897841b-82b3-489e-89dc-ab779e24b79d"
      },
      "source": [
        "dict.fromkeys(words)"
      ],
      "execution_count": null,
      "outputs": [
        {
          "output_type": "execute_result",
          "data": {
            "text/plain": [
              "{'기분이': None, '나는': None, '오늘': None, '우울해': None, '좋아': None}"
            ]
          },
          "metadata": {
            "tags": []
          },
          "execution_count": 8
        }
      ]
    },
    {
      "cell_type": "code",
      "metadata": {
        "colab": {
          "base_uri": "https://localhost:8080/"
        },
        "id": "iFZu81JNWhQ7",
        "outputId": "04ec2c26-b591-4d4c-cf8e-0e5ea563c4c8"
      },
      "source": [
        "# 중복 단어 제거\r\n",
        "words = list(dict.fromkeys(words))\r\n",
        "words # 중복제거된 words"
      ],
      "execution_count": null,
      "outputs": [
        {
          "output_type": "execute_result",
          "data": {
            "text/plain": [
              "['나는', '오늘', '기분이', '좋아', '우울해']"
            ]
          },
          "metadata": {
            "tags": []
          },
          "execution_count": 9
        }
      ]
    },
    {
      "cell_type": "code",
      "metadata": {
        "colab": {
          "base_uri": "https://localhost:8080/"
        },
        "id": "b_CxvR6OWxX4",
        "outputId": "cfd3cdb1-af12-4561-e744-8545f2fcc3cb"
      },
      "source": [
        "# 각 단어별 고유한 번호 부여(글자 to 숫자)\r\n",
        "word_to_id = {'[PAD]' : 0, '[UNK]' :  1} # PAD : 길이를 조절할 때, UNK : vocab에 없는 단어\r\n",
        "for word in words:\r\n",
        "  print(f'{word} : {len(word_to_id)}')\r\n",
        "  word_to_id[word] = len(word_to_id) # dict에 들어가는 순서대로 단어에 id를 부여\r\n",
        "word_to_id, word_to_id.items()"
      ],
      "execution_count": null,
      "outputs": [
        {
          "output_type": "stream",
          "text": [
            "나는 : 2\n",
            "오늘 : 3\n",
            "기분이 : 4\n",
            "좋아 : 5\n",
            "우울해 : 6\n"
          ],
          "name": "stdout"
        },
        {
          "output_type": "execute_result",
          "data": {
            "text/plain": [
              "({'[PAD]': 0, '[UNK]': 1, '기분이': 4, '나는': 2, '오늘': 3, '우울해': 6, '좋아': 5},\n",
              " dict_items([('[PAD]', 0), ('[UNK]', 1), ('나는', 2), ('오늘', 3), ('기분이', 4), ('좋아', 5), ('우울해', 6)]))"
            ]
          },
          "metadata": {
            "tags": []
          },
          "execution_count": 10
        }
      ]
    },
    {
      "cell_type": "code",
      "metadata": {
        "colab": {
          "base_uri": "https://localhost:8080/"
        },
        "id": "3b7TV0E2XQCI",
        "outputId": "6e982ca3-ea4e-40f6-d3a5-f3415de2aeda"
      },
      "source": [
        "# 각 숫자별 단어 부여 후에 key:value swap\r\n",
        "id_to_word = {_id:word for word, _id in word_to_id.items()} # word_to_id.items() : [('[PAD]', 0),...], word : '[PAD]', _id : 0 => _id:word => 0 : '[PAD]'\r\n",
        "id_to_word # {id : word}"
      ],
      "execution_count": null,
      "outputs": [
        {
          "output_type": "execute_result",
          "data": {
            "text/plain": [
              "{0: '[PAD]', 1: '[UNK]', 2: '나는', 3: '오늘', 4: '기분이', 5: '좋아', 6: '우울해'}"
            ]
          },
          "metadata": {
            "tags": []
          },
          "execution_count": 11
        }
      ]
    },
    {
      "cell_type": "markdown",
      "metadata": {
        "id": "-0Mbb5GWzneK"
      },
      "source": [
        "## 모델 학습용 데이터 생성"
      ]
    },
    {
      "cell_type": "code",
      "metadata": {
        "colab": {
          "base_uri": "https://localhost:8080/"
        },
        "id": "DJ2_-cHoYoNP",
        "outputId": "79582894-be0b-47bf-ba1b-10e792b6fd56"
      },
      "source": [
        "# 학습용 입력 데이터 생성\r\n",
        "train_inputs = []\r\n",
        "for sentence in sentences:\r\n",
        "  train_inputs.append([word_to_id[word] for word in sentence.split()]) # 문장 split -> word_to_id[split한 단어] -> 단어가 id로 => id로 문장 표현\r\n",
        "train_inputs"
      ],
      "execution_count": null,
      "outputs": [
        {
          "output_type": "execute_result",
          "data": {
            "text/plain": [
              "[[2, 3, 4, 5], [2, 3, 6]]"
            ]
          },
          "metadata": {
            "tags": []
          },
          "execution_count": 12
        }
      ]
    },
    {
      "cell_type": "code",
      "metadata": {
        "colab": {
          "base_uri": "https://localhost:8080/"
        },
        "id": "xdGVZ25bZKFS",
        "outputId": "d549fc12-8dfd-4785-d6f5-78f5a49c6276"
      },
      "source": [
        "# 문장의 길이를 모두 동일하게 변경(최대길이 4) - 많은 양의 데이터를 처리하기 쉽도록 길이를 맞춰준다\r\n",
        "for row in train_inputs:\r\n",
        "  row += [0] * (4 - len(row))\r\n",
        "train_inputs"
      ],
      "execution_count": null,
      "outputs": [
        {
          "output_type": "execute_result",
          "data": {
            "text/plain": [
              "[[2, 3, 4, 5], [2, 3, 6, 0]]"
            ]
          },
          "metadata": {
            "tags": []
          },
          "execution_count": 13
        }
      ]
    },
    {
      "cell_type": "code",
      "metadata": {
        "colab": {
          "base_uri": "https://localhost:8080/"
        },
        "id": "6lOk1GzTaoaV",
        "outputId": "d273830b-02c4-4f00-cc27-949cc3a0e745"
      },
      "source": [
        "# train input을 np array로 변환\r\n",
        "train_inputs = np.array(train_inputs)\r\n",
        "train_inputs"
      ],
      "execution_count": null,
      "outputs": [
        {
          "output_type": "execute_result",
          "data": {
            "text/plain": [
              "array([[2, 3, 4, 5],\n",
              "       [2, 3, 6, 0]])"
            ]
          },
          "metadata": {
            "tags": []
          },
          "execution_count": 14
        }
      ]
    },
    {
      "cell_type": "code",
      "metadata": {
        "colab": {
          "base_uri": "https://localhost:8080/"
        },
        "id": "9WGTvnHbY7Kx",
        "outputId": "5cc0122b-cc1d-4692-ade7-3b515ca7dcec"
      },
      "source": [
        "# train label은 labels를 그대로 사용\r\n",
        "train_labels = labels # data에서 label은 출력정답\r\n",
        "train_labels"
      ],
      "execution_count": null,
      "outputs": [
        {
          "output_type": "execute_result",
          "data": {
            "text/plain": [
              "[[1, 1, 1, 2], [1, 1, 0]]"
            ]
          },
          "metadata": {
            "tags": []
          },
          "execution_count": 15
        }
      ]
    },
    {
      "cell_type": "code",
      "metadata": {
        "colab": {
          "base_uri": "https://localhost:8080/"
        },
        "id": "bYGNYnP-agqE",
        "outputId": "a51969db-1f5a-4693-ce9a-714ccbb1cab4"
      },
      "source": [
        "# 정답길이도 모두 동일하게 변경. 1은 의미가없는(중립)\r\n",
        "for row in train_labels:\r\n",
        "  row += [1] * (4 - len(row))\r\n",
        "train_labels"
      ],
      "execution_count": null,
      "outputs": [
        {
          "output_type": "execute_result",
          "data": {
            "text/plain": [
              "[[1, 1, 1, 2], [1, 1, 0, 1]]"
            ]
          },
          "metadata": {
            "tags": []
          },
          "execution_count": 16
        }
      ]
    },
    {
      "cell_type": "code",
      "metadata": {
        "colab": {
          "base_uri": "https://localhost:8080/"
        },
        "id": "aAYF2p38buC6",
        "outputId": "3df1b76c-b3db-4a5f-c1e1-afb094b2105b"
      },
      "source": [
        "# train label을 np array로 변환\r\n",
        "train_labels = np.array(train_labels)\r\n",
        "train_labels"
      ],
      "execution_count": null,
      "outputs": [
        {
          "output_type": "execute_result",
          "data": {
            "text/plain": [
              "array([[1, 1, 1, 2],\n",
              "       [1, 1, 0, 1]])"
            ]
          },
          "metadata": {
            "tags": []
          },
          "execution_count": 17
        }
      ]
    },
    {
      "cell_type": "markdown",
      "metadata": {
        "id": "DxqlZz3NUUtB"
      },
      "source": [
        "* word (input)\r\n",
        "  1. input sentence를 split 해서 단어(word)단위로 분리\r\n",
        "  2. 분리된 word를 vocab으로 변경(중복 단어 제거)\r\n",
        "  3. 각 word에 id부여(여기서는 dict에 들어가는 순으로)\r\n",
        "  4. 각 word를 id로 대치하여 문장표현하는 list만들기(train_inputs)\r\n",
        "  5. 문장이 가지는 word수가 모두 같도록 처리(의미없는 0-padding을 넣어줌)\r\n",
        "  6. 단어수가 모두 같아진 id로 표시된 문장을 np array로 변환\r\n",
        "\r\n",
        "* labels\r\n",
        "  1. 데이터로 넣어준 label을 가지고 온다\r\n",
        "  2. label의 길이를 맞춰준다\r\n",
        "  3. np array로 바꾼다"
      ]
    },
    {
      "cell_type": "markdown",
      "metadata": {
        "id": "milX02G6zneK"
      },
      "source": [
        "## 모델링"
      ]
    },
    {
      "cell_type": "markdown",
      "metadata": {
        "id": "TmmbhMGaf_GB"
      },
      "source": [
        "* embedding\r\n",
        "  * one-hot encoding과 달리 단어를 밀집 벡터로 만드는 작업을 word embedding이라고 한다\r\n",
        "  * 주로 256, 512, 1024 차원을 가진다(현재 코드에선 8차원)\r\n",
        "  * 2D 정수 텐서를 입력으로 받고, 3D 텐서를 리턴한다"
      ]
    },
    {
      "cell_type": "code",
      "metadata": {
        "colab": {
          "base_uri": "https://localhost:8080/"
        },
        "id": "19x9hOhAcXxM",
        "outputId": "ac59039f-3b89-42d4-8989-88c6a4a0a399"
      },
      "source": [
        "# 입력 단어를 vector로 변환\r\n",
        "embedding = tf.keras.layers.Embedding(len(word_to_id), 8) # vocab의 갯수 : n_vocab, vector의 차원수 : d_model\r\n",
        "hidden = embedding(train_inputs)\r\n",
        "hidden # 원래의 train_inputs의 shape은 (2, 4). shpae=(2, 4, 8)으로 3D를 리턴해준 것을 알 수 있다. 각 단어당 8개의 원소를 가진다"
      ],
      "execution_count": null,
      "outputs": [
        {
          "output_type": "execute_result",
          "data": {
            "text/plain": [
              "<tf.Tensor: shape=(2, 4, 8), dtype=float32, numpy=\n",
              "array([[[-0.03366049,  0.0086485 , -0.0272558 , -0.0386883 ,\n",
              "          0.02559849, -0.00829139, -0.00878471, -0.01180999],\n",
              "        [ 0.00829936,  0.02572452, -0.03098699,  0.01510865,\n",
              "         -0.00394958, -0.00619279, -0.03926581, -0.00731242],\n",
              "        [ 0.0170739 ,  0.00179764, -0.04283749, -0.0059993 ,\n",
              "          0.04660744, -0.02145284, -0.03948937,  0.02623561],\n",
              "        [-0.00872748,  0.02256158, -0.03847399, -0.03653876,\n",
              "         -0.00487079, -0.02039621, -0.02773414, -0.03488297]],\n",
              "\n",
              "       [[-0.03366049,  0.0086485 , -0.0272558 , -0.0386883 ,\n",
              "          0.02559849, -0.00829139, -0.00878471, -0.01180999],\n",
              "        [ 0.00829936,  0.02572452, -0.03098699,  0.01510865,\n",
              "         -0.00394958, -0.00619279, -0.03926581, -0.00731242],\n",
              "        [-0.0339766 ,  0.01340583,  0.04648055, -0.022253  ,\n",
              "          0.03280025,  0.04745479,  0.00522021, -0.01291474],\n",
              "        [-0.04085246,  0.03916022, -0.04195162,  0.00167565,\n",
              "         -0.00962944,  0.03108604,  0.04708732, -0.03855782]]],\n",
              "      dtype=float32)>"
            ]
          },
          "metadata": {
            "tags": []
          },
          "execution_count": 18
        }
      ]
    },
    {
      "cell_type": "code",
      "metadata": {
        "colab": {
          "base_uri": "https://localhost:8080/"
        },
        "id": "z0V1MBwlc688",
        "outputId": "b398734d-3989-4fdd-f679-ff6e4c7fd675"
      },
      "source": [
        "# 단어의 vector를 이용해서 긍정(2), 부정(0), 중립(1) 확률값 예측(softmax, 확률분포)\r\n",
        "linear = tf.keras.layers.Dense(3, activation = tf.nn.softmax) # 3 : 출력이 3가지, 세개 더한게 1이다\r\n",
        "outputs = linear(hidden)\r\n",
        "outputs # 첫번째 단어 : [0.33402666, 0.33334684, 0.3326265 ] 각 단어 당 3개의 원소를 가진다"
      ],
      "execution_count": null,
      "outputs": [
        {
          "output_type": "execute_result",
          "data": {
            "text/plain": [
              "<tf.Tensor: shape=(2, 4, 3), dtype=float32, numpy=\n",
              "array([[[0.3298789 , 0.33037332, 0.3397478 ],\n",
              "        [0.33336928, 0.3270026 , 0.33962813],\n",
              "        [0.3324209 , 0.32581046, 0.34176865],\n",
              "        [0.3377099 , 0.32399184, 0.3382983 ]],\n",
              "\n",
              "       [[0.3298789 , 0.33037332, 0.3397478 ],\n",
              "        [0.33336928, 0.3270026 , 0.33962813],\n",
              "        [0.3199919 , 0.33536756, 0.34464052],\n",
              "        [0.3202101 , 0.33931983, 0.34047008]]], dtype=float32)>"
            ]
          },
          "metadata": {
            "tags": []
          },
          "execution_count": 19
        }
      ]
    },
    {
      "cell_type": "code",
      "metadata": {
        "colab": {
          "base_uri": "https://localhost:8080/"
        },
        "id": "E2T0Id1TfMtk",
        "outputId": "9b222e7c-d4d1-4100-a666-bd0c4c7f54c9"
      },
      "source": [
        "# activation(softmax)를 쓰지 않을 때 한 array를 더했을 때 1이 되지 않음\n",
        "linear_2 = tf.keras.layers.Dense(3)\n",
        "logits = linear_2(hidden)\n",
        "logits"
      ],
      "execution_count": null,
      "outputs": [
        {
          "output_type": "execute_result",
          "data": {
            "text/plain": [
              "<tf.Tensor: shape=(2, 4, 3), dtype=float32, numpy=\n",
              "array([[[ 0.01991158,  0.02340498,  0.04367907],\n",
              "        [ 0.00246073,  0.01540213,  0.00814183],\n",
              "        [ 0.01283572,  0.01503796,  0.02119567],\n",
              "        [-0.00747435,  0.01533613,  0.03505183]],\n",
              "\n",
              "       [[ 0.01991158,  0.02340498,  0.04367907],\n",
              "        [ 0.00246073,  0.01540213,  0.00814183],\n",
              "        [-0.003517  ,  0.0279898 ,  0.00714248],\n",
              "        [ 0.07118396,  0.06808206,  0.03579073]]], dtype=float32)>"
            ]
          },
          "metadata": {
            "tags": []
          },
          "execution_count": 26
        }
      ]
    },
    {
      "cell_type": "code",
      "metadata": {
        "colab": {
          "base_uri": "https://localhost:8080/"
        },
        "id": "F7KX8NglffDI",
        "outputId": "4eba74d1-88bb-4060-a327-8eecc38541d1"
      },
      "source": [
        "# softmax를 구현해보자. softmax 계산을 위한 준비 exp(x') / sum(exp(x))\r\n",
        "numerator = np.exp(logits) # [0.9975445 , 0.9983827 , 1.0163325 ]\r\n",
        "denominator = np.sum(numerator, axis=2, keepdims=True) # [0.9975445 , 0.9983827 , 1.0163325 ] 세 원소를 다 더한값\r\n",
        "numerator, denominator"
      ],
      "execution_count": null,
      "outputs": [
        {
          "output_type": "execute_result",
          "data": {
            "text/plain": [
              "(array([[[0.9584917 , 0.9531151 , 0.9471381 ],\n",
              "         [0.96198374, 0.93228936, 0.9786167 ],\n",
              "         [0.9500998 , 0.96462923, 0.9494073 ],\n",
              "         [0.9549486 , 0.9229382 , 0.9542817 ]],\n",
              " \n",
              "        [[0.9584917 , 0.9531151 , 0.9471381 ],\n",
              "         [0.96198374, 0.93228936, 0.9786167 ],\n",
              "         [1.02802   , 1.0193917 , 0.98935324],\n",
              "         [0.9824005 , 0.9446772 , 0.9702152 ]]], dtype=float32),\n",
              " array([[[2.8587449],\n",
              "         [2.8728898],\n",
              "         [2.8641365],\n",
              "         [2.8321686]],\n",
              " \n",
              "        [[2.8587449],\n",
              "         [2.8728898],\n",
              "         [3.0367649],\n",
              "         [2.8972929]]], dtype=float32))"
            ]
          },
          "metadata": {
            "tags": []
          },
          "execution_count": 21
        }
      ]
    },
    {
      "cell_type": "code",
      "metadata": {
        "colab": {
          "base_uri": "https://localhost:8080/"
        },
        "id": "emNepYAzfw5y",
        "outputId": "30bda8cf-8ea7-4943-c01a-9e8c8c31d94f"
      },
      "source": [
        "# 두 결과값 비교\r\n",
        "probs = numerator/ denominator # 확률 분포 값\r\n",
        "probs # 위에서 softmax 사용한 것과 같다(softmax 식 참고)"
      ],
      "execution_count": null,
      "outputs": [
        {
          "output_type": "execute_result",
          "data": {
            "text/plain": [
              "array([[[0.33528408, 0.33340335, 0.33131257],\n",
              "        [0.33484882, 0.32451275, 0.34063846],\n",
              "        [0.33172297, 0.33679584, 0.33148116],\n",
              "        [0.3371793 , 0.32587686, 0.3369438 ]],\n",
              "\n",
              "       [[0.33528408, 0.33340335, 0.33131257],\n",
              "        [0.33484882, 0.32451275, 0.34063846],\n",
              "        [0.33852473, 0.33568344, 0.32579184],\n",
              "        [0.3390753 , 0.3260551 , 0.33486956]]], dtype=float32)"
            ]
          },
          "metadata": {
            "tags": []
          },
          "execution_count": 22
        }
      ]
    },
    {
      "cell_type": "code",
      "metadata": {
        "colab": {
          "base_uri": "https://localhost:8080/"
        },
        "id": "tnIQtDbhf7T_",
        "outputId": "ae8404fb-0af0-408d-efd9-e871ba04b638"
      },
      "source": [
        "# 위의 logit을 구현해보자. dense의 weight, bias\r\n",
        "weight, bias = linear_2.get_weights()\r\n",
        "weight, bias"
      ],
      "execution_count": null,
      "outputs": [
        {
          "output_type": "execute_result",
          "data": {
            "text/plain": [
              "(array([[ 0.5102344 ,  0.63268405,  0.21943581],\n",
              "        [-0.28224522, -0.5281517 ,  0.11931717],\n",
              "        [ 0.5824066 ,  0.66847056,  0.7010898 ],\n",
              "        [-0.05694318, -0.3630721 ,  0.345563  ],\n",
              "        [-0.13464016, -0.03539056, -0.48931855],\n",
              "        [ 0.44512373,  0.3112226 , -0.26574194],\n",
              "        [ 0.39553314,  0.7335636 ,  0.3071025 ],\n",
              "        [-0.12736511,  0.6817823 ,  0.20810694]], dtype=float32),\n",
              " array([0., 0., 0.], dtype=float32))"
            ]
          },
          "metadata": {
            "tags": []
          },
          "execution_count": 24
        }
      ]
    },
    {
      "cell_type": "code",
      "metadata": {
        "colab": {
          "base_uri": "https://localhost:8080/"
        },
        "id": "L5nlyISLgSu2",
        "outputId": "26f1972e-5e42-48bf-ace1-bef52176c1d2"
      },
      "source": [
        "# numpy를 이용한 xW+b(행벡터), (Wx)T = xTWT (T : transpose)\r\n",
        "logits = np.matmul(hidden, weight) + bias # matmul : 행렬곱\r\n",
        "logits"
      ],
      "execution_count": null,
      "outputs": [
        {
          "output_type": "execute_result",
          "data": {
            "text/plain": [
              "array([[[-0.0423944 , -0.04801963, -0.0543104 ],\n",
              "        [-0.03875773, -0.070112  , -0.02161522],\n",
              "        [-0.05118816, -0.03601152, -0.05191739],\n",
              "        [-0.04609776, -0.08019292, -0.04679641]],\n",
              "\n",
              "       [[-0.0423944 , -0.04801963, -0.0543104 ],\n",
              "        [-0.03875773, -0.070112  , -0.02161522],\n",
              "        [ 0.02763464,  0.01920606, -0.01070392],\n",
              "        [-0.01775627, -0.05691208, -0.03023733]]], dtype=float32)"
            ]
          },
          "metadata": {
            "tags": []
          },
          "execution_count": 25
        }
      ]
    },
    {
      "cell_type": "code",
      "metadata": {
        "id": "TrR3JY5ViZOG"
      },
      "source": [
        "#@title 위에서 구현한 Model을 function으로 나타내기\n",
        "def build_model(n_vocab, d_model, n_seq, n_out):\n",
        "  \"\"\"\n",
        "  동작만 하는 간단한 모델\n",
        "  :param n_vocab : vocabulary 단어 수\n",
        "  :param d_model: 단어를 의미하는 벡터의 차원 수\n",
        "  :param n_seq : 문장 길이(단어 수)\n",
        "  :param n_out: 예측할 class 개수\n",
        "  \"\"\"\n",
        "  inputs = tf.keras.layers.Input((n_seq,)) # (bs, n_seq), bs : batch size, n_seq : 입력갯수(4)\n",
        "  \n",
        "  # 입력단어를 vector로 변환\n",
        "  embedding = tf.keras.layers.Embedding(n_vocab, d_model)\n",
        "  hidden = embedding(inputs)  # (bs, n_seq, d_model)\n",
        "  # 단어의 vector를 이용해 정답 확률값 예측\n",
        "  linear = tf.keras.layers.Dense(n_out, activation=tf.nn.softmax)\n",
        "  outputs = linear(hidden) # (bs, n_seq, n_out)\n",
        "\n",
        "  # 학습할 모델 선언\n",
        "  model = tf.keras.Model(inputs=inputs, outputs=outputs)\n",
        "  return model"
      ],
      "execution_count": null,
      "outputs": []
    },
    {
      "cell_type": "code",
      "metadata": {
        "colab": {
          "base_uri": "https://localhost:8080/",
          "height": 312
        },
        "id": "u4mj3b5ljOv6",
        "outputId": "0c3ccbb3-b963-48cb-acc5-8e5457b81c32"
      },
      "source": [
        "# 모델 생성\r\n",
        "model = build_model(len(word_to_id), 8, 4, 3)\r\n",
        "# 모델 내용 그래프 출력\r\n",
        "tf.keras.utils.plot_model(model, 'model.png', show_shapes=True)"
      ],
      "execution_count": null,
      "outputs": [
        {
          "output_type": "execute_result",
          "data": {
            "image/png": "[encoded data removed]",
            "text/plain": [
              "<IPython.core.display.Image object>"
            ]
          },
          "metadata": {
            "tags": []
          },
          "execution_count": 33
        }
      ]
    },
    {
      "cell_type": "code",
      "metadata": {
        "colab": {
          "base_uri": "https://localhost:8080/"
        },
        "id": "EsrhqY8Tj59n",
        "outputId": "d6627861-f478-4176-e963-90576f2e5e35"
      },
      "source": [
        "model.summary()"
      ],
      "execution_count": null,
      "outputs": [
        {
          "output_type": "stream",
          "text": [
            "Model: \"model_1\"\n",
            "_________________________________________________________________\n",
            "Layer (type)                 Output Shape              Param #   \n",
            "=================================================================\n",
            "input_2 (InputLayer)         [(None, 4)]               0         \n",
            "_________________________________________________________________\n",
            "embedding_2 (Embedding)      (None, 4, 8)              56        \n",
            "_________________________________________________________________\n",
            "dense_4 (Dense)              (None, 4, 3)              27        \n",
            "=================================================================\n",
            "Total params: 83\n",
            "Trainable params: 83\n",
            "Non-trainable params: 0\n",
            "_________________________________________________________________\n"
          ],
          "name": "stdout"
        }
      ]
    },
    {
      "cell_type": "markdown",
      "metadata": {
        "id": "DhXN7DHvlEpp"
      },
      "source": [
        "## 학습"
      ]
    },
    {
      "cell_type": "code",
      "metadata": {
        "id": "niDDdQc5kHMp"
      },
      "source": [
        "# 모델 loss, optimizer, metric 정의\r\n",
        "model.compile(loss='sparse_categorical_crossentropy', optimizer='adam', metrics=['accuracy'])"
      ],
      "execution_count": null,
      "outputs": []
    },
    {
      "cell_type": "code",
      "metadata": {
        "colab": {
          "base_uri": "https://localhost:8080/"
        },
        "id": "F-8d6ppWk7nf",
        "outputId": "72e4e4e5-cab4-4152-f039-d4cbfca4d0bb"
      },
      "source": [
        "# 모델 학습\r\n",
        "history = model.fit(train_inputs, train_labels, epochs=100, batch_size=16)"
      ],
      "execution_count": null,
      "outputs": [
        {
          "output_type": "stream",
          "text": [
            "Epoch 1/100\n",
            "1/1 [==============================] - 1s 724ms/step - loss: 1.1078 - accuracy: 0.0000e+00\n",
            "Epoch 2/100\n",
            "1/1 [==============================] - 0s 6ms/step - loss: 1.1051 - accuracy: 0.0000e+00\n",
            "Epoch 3/100\n",
            "1/1 [==============================] - 0s 6ms/step - loss: 1.1025 - accuracy: 0.2500\n",
            "Epoch 4/100\n",
            "1/1 [==============================] - 0s 8ms/step - loss: 1.0998 - accuracy: 0.5000\n",
            "Epoch 5/100\n",
            "1/1 [==============================] - 0s 9ms/step - loss: 1.0972 - accuracy: 0.6250\n",
            "Epoch 6/100\n",
            "1/1 [==============================] - 0s 7ms/step - loss: 1.0946 - accuracy: 0.6250\n",
            "Epoch 7/100\n",
            "1/1 [==============================] - 0s 5ms/step - loss: 1.0919 - accuracy: 0.6250\n",
            "Epoch 8/100\n",
            "1/1 [==============================] - 0s 6ms/step - loss: 1.0893 - accuracy: 0.6250\n",
            "Epoch 9/100\n",
            "1/1 [==============================] - 0s 8ms/step - loss: 1.0867 - accuracy: 0.6250\n",
            "Epoch 10/100\n",
            "1/1 [==============================] - 0s 8ms/step - loss: 1.0841 - accuracy: 0.6250\n",
            "Epoch 11/100\n",
            "1/1 [==============================] - 0s 9ms/step - loss: 1.0815 - accuracy: 0.6250\n",
            "Epoch 12/100\n",
            "1/1 [==============================] - 0s 6ms/step - loss: 1.0789 - accuracy: 0.7500\n",
            "Epoch 13/100\n",
            "1/1 [==============================] - 0s 6ms/step - loss: 1.0762 - accuracy: 0.7500\n",
            "Epoch 14/100\n",
            "1/1 [==============================] - 0s 9ms/step - loss: 1.0736 - accuracy: 0.7500\n",
            "Epoch 15/100\n",
            "1/1 [==============================] - 0s 8ms/step - loss: 1.0709 - accuracy: 0.7500\n",
            "Epoch 16/100\n",
            "1/1 [==============================] - 0s 9ms/step - loss: 1.0683 - accuracy: 0.7500\n",
            "Epoch 17/100\n",
            "1/1 [==============================] - 0s 10ms/step - loss: 1.0656 - accuracy: 0.7500\n",
            "Epoch 18/100\n",
            "1/1 [==============================] - 0s 6ms/step - loss: 1.0630 - accuracy: 0.7500\n",
            "Epoch 19/100\n",
            "1/1 [==============================] - 0s 9ms/step - loss: 1.0603 - accuracy: 0.7500\n",
            "Epoch 20/100\n",
            "1/1 [==============================] - 0s 10ms/step - loss: 1.0576 - accuracy: 0.7500\n",
            "Epoch 21/100\n",
            "1/1 [==============================] - 0s 9ms/step - loss: 1.0549 - accuracy: 0.7500\n",
            "Epoch 22/100\n",
            "1/1 [==============================] - 0s 11ms/step - loss: 1.0522 - accuracy: 0.8750\n",
            "Epoch 23/100\n",
            "1/1 [==============================] - 0s 7ms/step - loss: 1.0495 - accuracy: 1.0000\n",
            "Epoch 24/100\n",
            "1/1 [==============================] - 0s 9ms/step - loss: 1.0467 - accuracy: 1.0000\n",
            "Epoch 25/100\n",
            "1/1 [==============================] - 0s 7ms/step - loss: 1.0440 - accuracy: 1.0000\n",
            "Epoch 26/100\n",
            "1/1 [==============================] - 0s 11ms/step - loss: 1.0412 - accuracy: 1.0000\n",
            "Epoch 27/100\n",
            "1/1 [==============================] - 0s 8ms/step - loss: 1.0385 - accuracy: 1.0000\n",
            "Epoch 28/100\n",
            "1/1 [==============================] - 0s 5ms/step - loss: 1.0357 - accuracy: 1.0000\n",
            "Epoch 29/100\n",
            "1/1 [==============================] - 0s 8ms/step - loss: 1.0328 - accuracy: 1.0000\n",
            "Epoch 30/100\n",
            "1/1 [==============================] - 0s 7ms/step - loss: 1.0300 - accuracy: 1.0000\n",
            "Epoch 31/100\n",
            "1/1 [==============================] - 0s 10ms/step - loss: 1.0272 - accuracy: 1.0000\n",
            "Epoch 32/100\n",
            "1/1 [==============================] - 0s 11ms/step - loss: 1.0243 - accuracy: 1.0000\n",
            "Epoch 33/100\n",
            "1/1 [==============================] - 0s 9ms/step - loss: 1.0214 - accuracy: 1.0000\n",
            "Epoch 34/100\n",
            "1/1 [==============================] - 0s 10ms/step - loss: 1.0185 - accuracy: 1.0000\n",
            "Epoch 35/100\n",
            "1/1 [==============================] - 0s 11ms/step - loss: 1.0156 - accuracy: 1.0000\n",
            "Epoch 36/100\n",
            "1/1 [==============================] - 0s 8ms/step - loss: 1.0126 - accuracy: 1.0000\n",
            "Epoch 37/100\n",
            "1/1 [==============================] - 0s 8ms/step - loss: 1.0097 - accuracy: 1.0000\n",
            "Epoch 38/100\n",
            "1/1 [==============================] - 0s 8ms/step - loss: 1.0067 - accuracy: 1.0000\n",
            "Epoch 39/100\n",
            "1/1 [==============================] - 0s 10ms/step - loss: 1.0037 - accuracy: 1.0000\n",
            "Epoch 40/100\n",
            "1/1 [==============================] - 0s 11ms/step - loss: 1.0007 - accuracy: 1.0000\n",
            "Epoch 41/100\n",
            "1/1 [==============================] - 0s 13ms/step - loss: 0.9976 - accuracy: 1.0000\n",
            "Epoch 42/100\n",
            "1/1 [==============================] - 0s 10ms/step - loss: 0.9945 - accuracy: 1.0000\n",
            "Epoch 43/100\n",
            "1/1 [==============================] - 0s 10ms/step - loss: 0.9915 - accuracy: 1.0000\n",
            "Epoch 44/100\n",
            "1/1 [==============================] - 0s 7ms/step - loss: 0.9883 - accuracy: 1.0000\n",
            "Epoch 45/100\n",
            "1/1 [==============================] - 0s 10ms/step - loss: 0.9852 - accuracy: 1.0000\n",
            "Epoch 46/100\n",
            "1/1 [==============================] - 0s 12ms/step - loss: 0.9821 - accuracy: 1.0000\n",
            "Epoch 47/100\n",
            "1/1 [==============================] - 0s 10ms/step - loss: 0.9789 - accuracy: 1.0000\n",
            "Epoch 48/100\n",
            "1/1 [==============================] - 0s 10ms/step - loss: 0.9757 - accuracy: 1.0000\n",
            "Epoch 49/100\n",
            "1/1 [==============================] - 0s 18ms/step - loss: 0.9724 - accuracy: 1.0000\n",
            "Epoch 50/100\n",
            "1/1 [==============================] - 0s 12ms/step - loss: 0.9692 - accuracy: 1.0000\n",
            "Epoch 51/100\n",
            "1/1 [==============================] - 0s 14ms/step - loss: 0.9659 - accuracy: 1.0000\n",
            "Epoch 52/100\n",
            "1/1 [==============================] - 0s 12ms/step - loss: 0.9626 - accuracy: 1.0000\n",
            "Epoch 53/100\n",
            "1/1 [==============================] - 0s 8ms/step - loss: 0.9593 - accuracy: 1.0000\n",
            "Epoch 54/100\n",
            "1/1 [==============================] - 0s 9ms/step - loss: 0.9560 - accuracy: 1.0000\n",
            "Epoch 55/100\n",
            "1/1 [==============================] - 0s 7ms/step - loss: 0.9526 - accuracy: 1.0000\n",
            "Epoch 56/100\n",
            "1/1 [==============================] - 0s 8ms/step - loss: 0.9492 - accuracy: 1.0000\n",
            "Epoch 57/100\n",
            "1/1 [==============================] - 0s 9ms/step - loss: 0.9458 - accuracy: 1.0000\n",
            "Epoch 58/100\n",
            "1/1 [==============================] - 0s 8ms/step - loss: 0.9424 - accuracy: 1.0000\n",
            "Epoch 59/100\n",
            "1/1 [==============================] - 0s 8ms/step - loss: 0.9390 - accuracy: 1.0000\n",
            "Epoch 60/100\n",
            "1/1 [==============================] - 0s 9ms/step - loss: 0.9355 - accuracy: 1.0000\n",
            "Epoch 61/100\n",
            "1/1 [==============================] - 0s 10ms/step - loss: 0.9320 - accuracy: 1.0000\n",
            "Epoch 62/100\n",
            "1/1 [==============================] - 0s 10ms/step - loss: 0.9285 - accuracy: 1.0000\n",
            "Epoch 63/100\n",
            "1/1 [==============================] - 0s 10ms/step - loss: 0.9249 - accuracy: 1.0000\n",
            "Epoch 64/100\n",
            "1/1 [==============================] - 0s 9ms/step - loss: 0.9214 - accuracy: 1.0000\n",
            "Epoch 65/100\n",
            "1/1 [==============================] - 0s 8ms/step - loss: 0.9178 - accuracy: 1.0000\n",
            "Epoch 66/100\n",
            "1/1 [==============================] - 0s 8ms/step - loss: 0.9142 - accuracy: 1.0000\n",
            "Epoch 67/100\n",
            "1/1 [==============================] - 0s 12ms/step - loss: 0.9105 - accuracy: 1.0000\n",
            "Epoch 68/100\n",
            "1/1 [==============================] - 0s 11ms/step - loss: 0.9069 - accuracy: 1.0000\n",
            "Epoch 69/100\n",
            "1/1 [==============================] - 0s 12ms/step - loss: 0.9032 - accuracy: 1.0000\n",
            "Epoch 70/100\n",
            "1/1 [==============================] - 0s 8ms/step - loss: 0.8995 - accuracy: 1.0000\n",
            "Epoch 71/100\n",
            "1/1 [==============================] - 0s 8ms/step - loss: 0.8958 - accuracy: 1.0000\n",
            "Epoch 72/100\n",
            "1/1 [==============================] - 0s 8ms/step - loss: 0.8921 - accuracy: 1.0000\n",
            "Epoch 73/100\n",
            "1/1 [==============================] - 0s 9ms/step - loss: 0.8883 - accuracy: 1.0000\n",
            "Epoch 74/100\n",
            "1/1 [==============================] - 0s 8ms/step - loss: 0.8846 - accuracy: 1.0000\n",
            "Epoch 75/100\n",
            "1/1 [==============================] - 0s 7ms/step - loss: 0.8808 - accuracy: 1.0000\n",
            "Epoch 76/100\n",
            "1/1 [==============================] - 0s 8ms/step - loss: 0.8769 - accuracy: 1.0000\n",
            "Epoch 77/100\n",
            "1/1 [==============================] - 0s 10ms/step - loss: 0.8731 - accuracy: 1.0000\n",
            "Epoch 78/100\n",
            "1/1 [==============================] - 0s 6ms/step - loss: 0.8693 - accuracy: 1.0000\n",
            "Epoch 79/100\n",
            "1/1 [==============================] - 0s 10ms/step - loss: 0.8654 - accuracy: 1.0000\n",
            "Epoch 80/100\n",
            "1/1 [==============================] - 0s 15ms/step - loss: 0.8615 - accuracy: 1.0000\n",
            "Epoch 81/100\n",
            "1/1 [==============================] - 0s 12ms/step - loss: 0.8576 - accuracy: 1.0000\n",
            "Epoch 82/100\n",
            "1/1 [==============================] - 0s 9ms/step - loss: 0.8537 - accuracy: 1.0000\n",
            "Epoch 83/100\n",
            "1/1 [==============================] - 0s 10ms/step - loss: 0.8497 - accuracy: 1.0000\n",
            "Epoch 84/100\n",
            "1/1 [==============================] - 0s 8ms/step - loss: 0.8458 - accuracy: 1.0000\n",
            "Epoch 85/100\n",
            "1/1 [==============================] - 0s 10ms/step - loss: 0.8418 - accuracy: 1.0000\n",
            "Epoch 86/100\n",
            "1/1 [==============================] - 0s 8ms/step - loss: 0.8378 - accuracy: 1.0000\n",
            "Epoch 87/100\n",
            "1/1 [==============================] - 0s 8ms/step - loss: 0.8338 - accuracy: 1.0000\n",
            "Epoch 88/100\n",
            "1/1 [==============================] - 0s 7ms/step - loss: 0.8298 - accuracy: 1.0000\n",
            "Epoch 89/100\n",
            "1/1 [==============================] - 0s 15ms/step - loss: 0.8258 - accuracy: 1.0000\n",
            "Epoch 90/100\n",
            "1/1 [==============================] - 0s 7ms/step - loss: 0.8218 - accuracy: 1.0000\n",
            "Epoch 91/100\n",
            "1/1 [==============================] - 0s 11ms/step - loss: 0.8177 - accuracy: 1.0000\n",
            "Epoch 92/100\n",
            "1/1 [==============================] - 0s 5ms/step - loss: 0.8136 - accuracy: 1.0000\n",
            "Epoch 93/100\n",
            "1/1 [==============================] - 0s 6ms/step - loss: 0.8096 - accuracy: 1.0000\n",
            "Epoch 94/100\n",
            "1/1 [==============================] - 0s 5ms/step - loss: 0.8055 - accuracy: 1.0000\n",
            "Epoch 95/100\n",
            "1/1 [==============================] - 0s 9ms/step - loss: 0.8014 - accuracy: 1.0000\n",
            "Epoch 96/100\n",
            "1/1 [==============================] - 0s 8ms/step - loss: 0.7972 - accuracy: 1.0000\n",
            "Epoch 97/100\n",
            "1/1 [==============================] - 0s 8ms/step - loss: 0.7931 - accuracy: 1.0000\n",
            "Epoch 98/100\n",
            "1/1 [==============================] - 0s 13ms/step - loss: 0.7890 - accuracy: 1.0000\n",
            "Epoch 99/100\n",
            "1/1 [==============================] - 0s 10ms/step - loss: 0.7849 - accuracy: 1.0000\n",
            "Epoch 100/100\n",
            "1/1 [==============================] - 0s 10ms/step - loss: 0.7807 - accuracy: 1.0000\n"
          ],
          "name": "stdout"
        }
      ]
    },
    {
      "cell_type": "code",
      "metadata": {
        "colab": {
          "base_uri": "https://localhost:8080/",
          "height": 279
        },
        "id": "OSjO59j7mCst",
        "outputId": "2330e053-8ab9-4040-dc74-35c94e88fed1"
      },
      "source": [
        "plt.figure(figsize=(12, 4))\r\n",
        "\r\n",
        "plt.subplot(1, 2, 1)\r\n",
        "plt.plot(history.history['loss'], 'b-', label='loss')\r\n",
        "plt.xlabel('Epoch')\r\n",
        "plt.legend()\r\n",
        "\r\n",
        "plt.subplot(1, 2, 2)\r\n",
        "plt.plot(history.history['accuracy'], 'g-', label='accuracy')\r\n",
        "plt.xlabel('Epoch')\r\n",
        "plt.legend()\r\n",
        "\r\n",
        "plt.show()"
      ],
      "execution_count": null,
      "outputs": [
        {
          "output_type": "display_data",
          "data": {
            "image/png": "[encoded data removed]",
            "text/plain": [
              "<Figure size 864x288 with 2 Axes>"
            ]
          },
          "metadata": {
            "tags": [],
            "needs_background": "light"
          }
        }
      ]
    },
    {
      "cell_type": "markdown",
      "metadata": {
        "id": "hjSlRk99zneL"
      },
      "source": [
        "## 평가"
      ]
    },
    {
      "cell_type": "code",
      "metadata": {
        "colab": {
          "base_uri": "https://localhost:8080/"
        },
        "id": "RePjNtE1nO6y",
        "outputId": "1c6885db-9dc2-4072-edb4-4f8e321f2241"
      },
      "source": [
        "# 모델 평가(원래는 train data로 test하면 안되고 test data를 사용해야함)\r\n",
        "model.evaluate(train_inputs, train_labels)"
      ],
      "execution_count": null,
      "outputs": [
        {
          "output_type": "stream",
          "text": [
            "1/1 [==============================] - 0s 179ms/step - loss: 0.7765 - accuracy: 1.0000\n"
          ],
          "name": "stdout"
        },
        {
          "output_type": "execute_result",
          "data": {
            "text/plain": [
              "[0.7765437364578247, 1.0]"
            ]
          },
          "metadata": {
            "tags": []
          },
          "execution_count": 38
        }
      ]
    },
    {
      "cell_type": "markdown",
      "metadata": {
        "id": "XpcISJ_ozneL"
      },
      "source": [
        "## 예측"
      ]
    },
    {
      "cell_type": "code",
      "metadata": {
        "id": "Grw_4miGomPy"
      },
      "source": [
        "# 추론할 입력\r\n",
        "string = '나는 기분이 우울해'"
      ],
      "execution_count": null,
      "outputs": []
    },
    {
      "cell_type": "code",
      "metadata": {
        "colab": {
          "base_uri": "https://localhost:8080/"
        },
        "id": "d5DYokYooqfn",
        "outputId": "3d8bd761-9fde-4552-b427-aaa76065c91d"
      },
      "source": [
        "# 입력을 숫자로 변경\r\n",
        "infer_input = [word_to_id[word] for word in string.split()]\r\n",
        "infer_input"
      ],
      "execution_count": null,
      "outputs": [
        {
          "output_type": "execute_result",
          "data": {
            "text/plain": [
              "[2, 4, 6]"
            ]
          },
          "metadata": {
            "tags": []
          },
          "execution_count": 40
        }
      ]
    },
    {
      "cell_type": "code",
      "metadata": {
        "colab": {
          "base_uri": "https://localhost:8080/"
        },
        "id": "4tXz87DsoxR-",
        "outputId": "de9ec5f7-78b1-4dac-9b88-f7b63e1ec63b"
      },
      "source": [
        "# 문장의 길이를 모두 동일하게 변경 (모델자체를 길이가 4인것으로 학습시켰음)\r\n",
        "infer_input += [0] * (4 - len(infer_input))\r\n",
        "infer_input"
      ],
      "execution_count": null,
      "outputs": [
        {
          "output_type": "execute_result",
          "data": {
            "text/plain": [
              "[2, 4, 6, 0]"
            ]
          },
          "metadata": {
            "tags": []
          },
          "execution_count": 41
        }
      ]
    },
    {
      "cell_type": "code",
      "metadata": {
        "colab": {
          "base_uri": "https://localhost:8080/"
        },
        "id": "Yi1yNzG6pMgP",
        "outputId": "7d5f689d-d0bf-4f5d-b82e-39b45f08be4d"
      },
      "source": [
        "# numpy array 변환 (batch size 1 추가)\r\n",
        "infer_inputs = np.array([infer_input])\r\n",
        "infer_input"
      ],
      "execution_count": null,
      "outputs": [
        {
          "output_type": "execute_result",
          "data": {
            "text/plain": [
              "[2, 4, 6, 0]"
            ]
          },
          "metadata": {
            "tags": []
          },
          "execution_count": 42
        }
      ]
    },
    {
      "cell_type": "code",
      "metadata": {
        "colab": {
          "base_uri": "https://localhost:8080/"
        },
        "id": "gxKKDolbpUP3",
        "outputId": "6150f170-74fd-48f8-8fe2-1f34c466d20a"
      },
      "source": [
        "# 긍정/부정 추론\r\n",
        "y_preds = model.predict(infer_inputs)\r\n",
        "y_preds"
      ],
      "execution_count": null,
      "outputs": [
        {
          "output_type": "execute_result",
          "data": {
            "text/plain": [
              "array([[[0.25532877, 0.4890173 , 0.25565392],\n",
              "        [0.2494012 , 0.4705688 , 0.28002998],\n",
              "        [0.3857692 , 0.30711716, 0.30711365],\n",
              "        [0.25757247, 0.47194436, 0.2704832 ]]], dtype=float32)"
            ]
          },
          "metadata": {
            "tags": []
          },
          "execution_count": 46
        }
      ]
    },
    {
      "cell_type": "code",
      "metadata": {
        "colab": {
          "base_uri": "https://localhost:8080/"
        },
        "id": "gaLnYHY_pcrx",
        "outputId": "e77dbdb4-29cc-4bef-b8dc-8ab681afd65e"
      },
      "source": [
        "# 확률의 max값을 추론 값으로 결정\r\n",
        "y_pred_class = np.argmax(y_preds, axis=2)\r\n",
        "y_pred_class \r\n",
        "# [1, 1, 0, 1] : 중립 중립 부정(우울해) 중립(padding)"
      ],
      "execution_count": null,
      "outputs": [
        {
          "output_type": "execute_result",
          "data": {
            "text/plain": [
              "array([[1, 1, 0, 1]])"
            ]
          },
          "metadata": {
            "tags": []
          },
          "execution_count": 47
        }
      ]
    },
    {
      "cell_type": "markdown",
      "metadata": {
        "id": "hglxWik0PAgW"
      },
      "source": [
        "## 참고(문법)"
      ]
    },
    {
      "cell_type": "markdown",
      "metadata": {
        "id": "fZ8E9T0WQAXW"
      },
      "source": [
        "### dict.fromkeys"
      ]
    },
    {
      "cell_type": "code",
      "metadata": {
        "id": "ACN8C8_APCi6"
      },
      "source": [
        "# python dict fromkeys\r\n",
        "# dict.fromkeys(list)\r\n",
        "keys = ['a', 'b', 'c', 'd']\r\n",
        "x = dict.fromkeys(keys) # list를 key값으로하고, value는 None인 dict 생성\r\n",
        "x, list(x) # list로 하면 key값만 리스트로 반환"
      ],
      "execution_count": null,
      "outputs": []
    },
    {
      "cell_type": "code",
      "metadata": {
        "id": "DiyFyu_iPh2N"
      },
      "source": [
        "y = dict.fromkeys(keys, 100) # value의 default값도 설정가능\r\n",
        "y, list(y)"
      ],
      "execution_count": null,
      "outputs": []
    },
    {
      "cell_type": "code",
      "metadata": {
        "id": "c5wjR42rPsFU"
      },
      "source": [
        "keys_2 = ['a', 'b', 'c', 'd', 'a', 'a', 'b'] # 중복 원소가 있는 리스트\r\n",
        "z = dict.fromkeys(keys) # 중복된 것은 제거됨\r\n",
        "z "
      ],
      "execution_count": null,
      "outputs": []
    },
    {
      "cell_type": "code",
      "metadata": {
        "id": "Y328bvd7Q34N"
      },
      "source": [
        "list({'a': 100, 'b': 100, 'c': 100, 'd': 100}) # key값만 반환"
      ],
      "execution_count": null,
      "outputs": []
    }
  ]
}