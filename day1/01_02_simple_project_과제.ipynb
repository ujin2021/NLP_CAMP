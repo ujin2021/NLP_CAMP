{
  "nbformat": 4,
  "nbformat_minor": 0,
  "metadata": {
    "colab": {
      "name": "01-02-simple-project-과제.ipynb",
      "provenance": [],
      "collapsed_sections": [
        "BuaFwJqDVumT"
      ],
      "include_colab_link": true
    },
    "kernelspec": {
      "name": "python3",
      "display_name": "Python 3"
    }
  },
  "cells": [
    {
      "cell_type": "markdown",
      "metadata": {
        "id": "view-in-github",
        "colab_type": "text"
      },
      "source": [
        "<a href=\"https://colab.research.google.com/github/ujin2021/NLP_CAMP/blob/main/day1/01_02_simple_project_%EA%B3%BC%EC%A0%9C.ipynb\" target=\"_parent\"><img src=\"https://colab.research.google.com/assets/colab-badge.svg\" alt=\"Open In Colab\"/></a>"
      ]
    },
    {
      "cell_type": "markdown",
      "metadata": {
        "id": "BuaFwJqDVumT"
      },
      "source": [
        "# EVN"
      ]
    },
    {
      "cell_type": "code",
      "metadata": {
        "id": "ODiNPGQ9VwLK"
      },
      "source": [
        "import numpy as np\n",
        "import matplotlib.pyplot as plt\n",
        "\n",
        "import tensorflow as tf"
      ],
      "execution_count": 51,
      "outputs": []
    },
    {
      "cell_type": "markdown",
      "metadata": {
        "id": "y_9x5ECWZhbS"
      },
      "source": [
        "# 문장 긍정(1), 부정(0) 분류 프로젝트"
      ]
    },
    {
      "cell_type": "markdown",
      "metadata": {
        "id": "3uPb-tIEZhbd"
      },
      "source": [
        "## 데이터"
      ]
    },
    {
      "cell_type": "code",
      "metadata": {
        "id": "i7oqS_rHZhbe"
      },
      "source": [
        "# 입력 문장\n",
        "sentences = [\n",
        "    '나는 오늘 기분이 좋아',\n",
        "    '나는 오늘 우울해'\n",
        "]\n",
        "\n",
        "# 출력 정답 (문장별로 긍정/부정)\n",
        "labels = [1, 0]  # 긍정(1), 부정(0)\n",
        "\n",
        "# 정답 dic\n",
        "id_to_label = {0: '부정', 1: '긍정'}"
      ],
      "execution_count": 52,
      "outputs": []
    },
    {
      "cell_type": "markdown",
      "metadata": {
        "id": "5QAm2W2eZhbe"
      },
      "source": [
        "## Vocabulary"
      ]
    },
    {
      "cell_type": "code",
      "metadata": {
        "id": "nPAFem00Zhbe",
        "colab": {
          "base_uri": "https://localhost:8080/"
        },
        "outputId": "c06b24b3-b29c-4ff5-cfd8-8589942147a3"
      },
      "source": [
        "# 각 문장을 띄어쓰기 단위로 분할\n",
        "words = []\n",
        "for sentence in sentences:\n",
        "    words.extend(sentence.split())\n",
        "words"
      ],
      "execution_count": 53,
      "outputs": [
        {
          "output_type": "execute_result",
          "data": {
            "text/plain": [
              "['나는', '오늘', '기분이', '좋아', '나는', '오늘', '우울해']"
            ]
          },
          "metadata": {
            "tags": []
          },
          "execution_count": 53
        }
      ]
    },
    {
      "cell_type": "code",
      "metadata": {
        "id": "fG66UxYRZhbf",
        "colab": {
          "base_uri": "https://localhost:8080/"
        },
        "outputId": "7347c0bf-5469-417e-c18f-89c0d27cca10"
      },
      "source": [
        "# 중복 단어 제거\n",
        "words = list(dict.fromkeys(words))\n",
        "words"
      ],
      "execution_count": 54,
      "outputs": [
        {
          "output_type": "execute_result",
          "data": {
            "text/plain": [
              "['나는', '오늘', '기분이', '좋아', '우울해']"
            ]
          },
          "metadata": {
            "tags": []
          },
          "execution_count": 54
        }
      ]
    },
    {
      "cell_type": "code",
      "metadata": {
        "id": "c4z8up8GZhbf",
        "colab": {
          "base_uri": "https://localhost:8080/"
        },
        "outputId": "be538f0d-5c6a-4fe0-a654-8cde05dd68a3"
      },
      "source": [
        "# 각 단어별 고유한 번호 부여\n",
        "word_to_id = {'[PAD]': 0, '[UNK]': 1}\n",
        "for word in words:\n",
        "    word_to_id[word] = len(word_to_id)\n",
        "word_to_id"
      ],
      "execution_count": 55,
      "outputs": [
        {
          "output_type": "execute_result",
          "data": {
            "text/plain": [
              "{'[PAD]': 0, '[UNK]': 1, '기분이': 4, '나는': 2, '오늘': 3, '우울해': 6, '좋아': 5}"
            ]
          },
          "metadata": {
            "tags": []
          },
          "execution_count": 55
        }
      ]
    },
    {
      "cell_type": "code",
      "metadata": {
        "id": "uOCStzoAZhbf",
        "colab": {
          "base_uri": "https://localhost:8080/"
        },
        "outputId": "a55defe7-7fdb-48a1-e5b0-68e45312aeea"
      },
      "source": [
        "# 각 숫자별 단어 부여\n",
        "id_to_word = {_id:word for word, _id in word_to_id.items()}\n",
        "id_to_word"
      ],
      "execution_count": 56,
      "outputs": [
        {
          "output_type": "execute_result",
          "data": {
            "text/plain": [
              "{0: '[PAD]', 1: '[UNK]', 2: '나는', 3: '오늘', 4: '기분이', 5: '좋아', 6: '우울해'}"
            ]
          },
          "metadata": {
            "tags": []
          },
          "execution_count": 56
        }
      ]
    },
    {
      "cell_type": "markdown",
      "metadata": {
        "id": "GIGGW1zCZhbf"
      },
      "source": [
        "## 모델 학습용 데이터 생성"
      ]
    },
    {
      "cell_type": "code",
      "metadata": {
        "id": "vqOJgFInZhbf",
        "colab": {
          "base_uri": "https://localhost:8080/"
        },
        "outputId": "77150430-5b8b-4434-f1dc-3106a6a66e42"
      },
      "source": [
        "# 학습용 입력 데이터 생성\n",
        "train_inputs = []\n",
        "for sentence in sentences:\n",
        "    train_inputs.append([word_to_id[word] for word in sentence.split()])\n",
        "train_inputs"
      ],
      "execution_count": 57,
      "outputs": [
        {
          "output_type": "execute_result",
          "data": {
            "text/plain": [
              "[[2, 3, 4, 5], [2, 3, 6]]"
            ]
          },
          "metadata": {
            "tags": []
          },
          "execution_count": 57
        }
      ]
    },
    {
      "cell_type": "code",
      "metadata": {
        "id": "3tnBuxc7Zhbg",
        "colab": {
          "base_uri": "https://localhost:8080/"
        },
        "outputId": "a8ca524a-49ff-47b9-c2a9-aeae111347c4"
      },
      "source": [
        "# train label은 labels를 그래도 사용\n",
        "train_labels = labels\n",
        "train_labels"
      ],
      "execution_count": 58,
      "outputs": [
        {
          "output_type": "execute_result",
          "data": {
            "text/plain": [
              "[1, 0]"
            ]
          },
          "metadata": {
            "tags": []
          },
          "execution_count": 58
        }
      ]
    },
    {
      "cell_type": "code",
      "metadata": {
        "id": "dDgDN_bNZhbg",
        "colab": {
          "base_uri": "https://localhost:8080/"
        },
        "outputId": "5f24199e-c253-440d-dbfd-8d4f47477028"
      },
      "source": [
        "# 문장의 길이를 모두 동일하게 변경 (최대길이 4)\n",
        "for row in train_inputs:\n",
        "    row += [0] * (4 - len(row))\n",
        "train_inputs"
      ],
      "execution_count": 59,
      "outputs": [
        {
          "output_type": "execute_result",
          "data": {
            "text/plain": [
              "[[2, 3, 4, 5], [2, 3, 6, 0]]"
            ]
          },
          "metadata": {
            "tags": []
          },
          "execution_count": 59
        }
      ]
    },
    {
      "cell_type": "code",
      "metadata": {
        "id": "NK056QQoZhbg",
        "colab": {
          "base_uri": "https://localhost:8080/"
        },
        "outputId": "4df27130-1885-4665-b702-76798fa1fbe8"
      },
      "source": [
        "# train inputs을 numpy array로 변환\n",
        "train_inputs = np.array(train_inputs)\n",
        "train_inputs"
      ],
      "execution_count": 60,
      "outputs": [
        {
          "output_type": "execute_result",
          "data": {
            "text/plain": [
              "array([[2, 3, 4, 5],\n",
              "       [2, 3, 6, 0]])"
            ]
          },
          "metadata": {
            "tags": []
          },
          "execution_count": 60
        }
      ]
    },
    {
      "cell_type": "code",
      "metadata": {
        "id": "Sfjb3EZAZhbh",
        "colab": {
          "base_uri": "https://localhost:8080/"
        },
        "outputId": "34ce0d8b-656b-46d5-e902-5d46c34b7f53"
      },
      "source": [
        "# 학습용 정답을 numpy array로 변환\n",
        "train_labels = np.array(train_labels)\n",
        "train_labels"
      ],
      "execution_count": 61,
      "outputs": [
        {
          "output_type": "execute_result",
          "data": {
            "text/plain": [
              "array([1, 0])"
            ]
          },
          "metadata": {
            "tags": []
          },
          "execution_count": 61
        }
      ]
    },
    {
      "cell_type": "markdown",
      "metadata": {
        "id": "85GzrE0HZhbh"
      },
      "source": [
        "## 모델링"
      ]
    },
    {
      "cell_type": "code",
      "metadata": {
        "id": "ho--z_ahZhbh",
        "colab": {
          "base_uri": "https://localhost:8080/"
        },
        "outputId": "37e529a4-5a54-420d-9a79-cbb56bef4388"
      },
      "source": [
        "# 입력 단어를 vector로 변환\n",
        "embedding = tf.keras.layers.Embedding(len(word_to_id), 8)\n",
        "hidden = embedding(train_inputs)\n",
        "hidden # shape = (2, 4, 8) input의 shape가 (2, 4) (문장두개, 단어네개), 한 단어당 8개로"
      ],
      "execution_count": 62,
      "outputs": [
        {
          "output_type": "execute_result",
          "data": {
            "text/plain": [
              "<tf.Tensor: shape=(2, 4, 8), dtype=float32, numpy=\n",
              "array([[[ 0.01600952, -0.02867161,  0.0490527 ,  0.02694185,\n",
              "         -0.02442247,  0.00242256, -0.03835633, -0.01112419],\n",
              "        [-0.0286734 , -0.0297141 ,  0.01743609,  0.0420645 ,\n",
              "         -0.02302362, -0.00117997, -0.01170771, -0.01250789],\n",
              "        [ 0.03796058, -0.02714941,  0.0467687 ,  0.04954524,\n",
              "         -0.01518697, -0.01868795,  0.00816096, -0.01388646],\n",
              "        [-0.00439847,  0.01194475, -0.04764805, -0.03494954,\n",
              "         -0.02959934, -0.02002832,  0.03595058,  0.04567074]],\n",
              "\n",
              "       [[ 0.01600952, -0.02867161,  0.0490527 ,  0.02694185,\n",
              "         -0.02442247,  0.00242256, -0.03835633, -0.01112419],\n",
              "        [-0.0286734 , -0.0297141 ,  0.01743609,  0.0420645 ,\n",
              "         -0.02302362, -0.00117997, -0.01170771, -0.01250789],\n",
              "        [ 0.01784401,  0.02445991, -0.00280247, -0.03154701,\n",
              "          0.0024224 , -0.02964656,  0.0248563 , -0.00087682],\n",
              "        [ 0.04162117, -0.04413425, -0.0117738 , -0.03286532,\n",
              "         -0.02149026, -0.04411364,  0.02396966,  0.00358213]]],\n",
              "      dtype=float32)>"
            ]
          },
          "metadata": {
            "tags": []
          },
          "execution_count": 62
        }
      ]
    },
    {
      "cell_type": "code",
      "metadata": {
        "id": "iAHwFqpiaKLj",
        "colab": {
          "base_uri": "https://localhost:8080/"
        },
        "outputId": "b226cc3a-9842-4be7-ff07-5214efacdf63"
      },
      "source": [
        "# 각 단어 벡터의 최대값 기준으로 벡터를 더해서 차원을 줄여줌 (문장 vector 생성)\n",
        "pool = tf.keras.layers.GlobalMaxPool1D()\n",
        "hidden_pool = pool(hidden)\n",
        "hidden_pool"
      ],
      "execution_count": 63,
      "outputs": [
        {
          "output_type": "execute_result",
          "data": {
            "text/plain": [
              "<tf.Tensor: shape=(2, 8), dtype=float32, numpy=\n",
              "array([[ 0.03796058,  0.01194475,  0.0490527 ,  0.04954524, -0.01518697,\n",
              "         0.00242256,  0.03595058,  0.04567074],\n",
              "       [ 0.04162117,  0.02445991,  0.0490527 ,  0.0420645 ,  0.0024224 ,\n",
              "         0.00242256,  0.0248563 ,  0.00358213]], dtype=float32)>"
            ]
          },
          "metadata": {
            "tags": []
          },
          "execution_count": 63
        }
      ]
    },
    {
      "cell_type": "code",
      "metadata": {
        "id": "P_H1viaeZhbh",
        "colab": {
          "base_uri": "https://localhost:8080/"
        },
        "outputId": "85aef6be-253b-4c53-f54c-f1edf461897a"
      },
      "source": [
        "# 문장 vector를 이용해서 긍정(1), 부정(0) 확률값 예측\n",
        "linear = tf.keras.layers.Dense(2, activation=tf.nn.softmax)\n",
        "outputs = linear(hidden_pool)\n",
        "outputs # 긍정, 부정 확률"
      ],
      "execution_count": 64,
      "outputs": [
        {
          "output_type": "execute_result",
          "data": {
            "text/plain": [
              "<tf.Tensor: shape=(2, 2), dtype=float32, numpy=\n",
              "array([[0.49208006, 0.50791997],\n",
              "       [0.49369788, 0.5063022 ]], dtype=float32)>"
            ]
          },
          "metadata": {
            "tags": []
          },
          "execution_count": 64
        }
      ]
    },
    {
      "cell_type": "code",
      "metadata": {
        "id": "7QPDAjdMZhbh"
      },
      "source": [
        "def build_model(n_vocab, d_model, n_seq, n_out):\n",
        "    \"\"\"\n",
        "    동작만 하는 간단한 모델\n",
        "    :param n_vocab: vocabulary 단어 수\n",
        "    :param d_model: 단어를 의미하는 벡터의 차원 수\n",
        "    :param n_seq: 문장길이 (단어 수)\n",
        "    :param n_out: 예측할 class 개수\n",
        "    \"\"\"\n",
        "    inputs = tf.keras.layers.Input((n_seq,))  # (bs, n_seq)\n",
        "    \n",
        "    # 입력 문장을 vector로 변환\n",
        "    embedding = tf.keras.layers.Embedding(n_vocab, d_model)\n",
        "    hidden = embedding(inputs)\n",
        "    pool = tf.keras.layers.GlobalMaxPool1D()\n",
        "    hidden_pool = pool(hidden)\n",
        "\n",
        "    # 문장 vector를 이용해 정답 확률값 예측\n",
        "    linear = tf.keras.layers.Dense(n_out, activation=tf.nn.softmax)\n",
        "    outputs = linear(hidden_pool)\n",
        "    \n",
        "    # 학습할 모델 선언\n",
        "    model = tf.keras.Model(inputs=inputs, outputs=outputs)\n",
        "    return model"
      ],
      "execution_count": 65,
      "outputs": []
    },
    {
      "cell_type": "code",
      "metadata": {
        "id": "FlT9uYrxZhbi",
        "colab": {
          "base_uri": "https://localhost:8080/",
          "height": 422
        },
        "outputId": "60a06524-7a9e-4fd2-dc39-7d5e2fb4f6e7"
      },
      "source": [
        "# 모델 생성\n",
        "model = build_model(len(word_to_id), 8, 4, 2)\n",
        "# 모델 내용 그래프 출력\n",
        "tf.keras.utils.plot_model(model, 'model.png', show_shapes=True)"
      ],
      "execution_count": 66,
      "outputs": [
        {
          "output_type": "execute_result",
          "data": {
            "image/png": "[encoded data removed]",
            "text/plain": [
              "<IPython.core.display.Image object>"
            ]
          },
          "metadata": {
            "tags": []
          },
          "execution_count": 66
        }
      ]
    },
    {
      "cell_type": "markdown",
      "metadata": {
        "id": "rrhMcv0FZhbi"
      },
      "source": [
        "## 학습"
      ]
    },
    {
      "cell_type": "code",
      "metadata": {
        "id": "oh87DPXoZhbi"
      },
      "source": [
        "# 모델 loss, optimizer, metric 정의\n",
        "model.compile(loss='sparse_categorical_crossentropy', optimizer='adam', metrics=['accuracy'])"
      ],
      "execution_count": 67,
      "outputs": []
    },
    {
      "cell_type": "code",
      "metadata": {
        "id": "K5mlWw7lZhbi",
        "colab": {
          "base_uri": "https://localhost:8080/"
        },
        "outputId": "bff9f190-7732-4c0a-bba8-790c0ea98264"
      },
      "source": [
        "# 모델 학습\n",
        "history = model.fit(train_inputs, train_labels, epochs=20, batch_size=16)"
      ],
      "execution_count": 68,
      "outputs": [
        {
          "output_type": "stream",
          "text": [
            "Epoch 1/20\n",
            "1/1 [==============================] - 0s 364ms/step - loss: 0.6916 - accuracy: 0.5000\n",
            "Epoch 2/20\n",
            "1/1 [==============================] - 0s 4ms/step - loss: 0.6897 - accuracy: 0.5000\n",
            "Epoch 3/20\n",
            "1/1 [==============================] - 0s 4ms/step - loss: 0.6879 - accuracy: 0.5000\n",
            "Epoch 4/20\n",
            "1/1 [==============================] - 0s 4ms/step - loss: 0.6861 - accuracy: 0.5000\n",
            "Epoch 5/20\n",
            "1/1 [==============================] - 0s 5ms/step - loss: 0.6843 - accuracy: 0.5000\n",
            "Epoch 6/20\n",
            "1/1 [==============================] - 0s 5ms/step - loss: 0.6825 - accuracy: 0.5000\n",
            "Epoch 7/20\n",
            "1/1 [==============================] - 0s 4ms/step - loss: 0.6807 - accuracy: 0.5000\n",
            "Epoch 8/20\n",
            "1/1 [==============================] - 0s 4ms/step - loss: 0.6789 - accuracy: 0.5000\n",
            "Epoch 9/20\n",
            "1/1 [==============================] - 0s 4ms/step - loss: 0.6772 - accuracy: 0.5000\n",
            "Epoch 10/20\n",
            "1/1 [==============================] - 0s 4ms/step - loss: 0.6754 - accuracy: 0.5000\n",
            "Epoch 11/20\n",
            "1/1 [==============================] - 0s 4ms/step - loss: 0.6737 - accuracy: 0.5000\n",
            "Epoch 12/20\n",
            "1/1 [==============================] - 0s 5ms/step - loss: 0.6720 - accuracy: 0.5000\n",
            "Epoch 13/20\n",
            "1/1 [==============================] - 0s 4ms/step - loss: 0.6708 - accuracy: 0.5000\n",
            "Epoch 14/20\n",
            "1/1 [==============================] - 0s 4ms/step - loss: 0.6694 - accuracy: 0.5000\n",
            "Epoch 15/20\n",
            "1/1 [==============================] - 0s 4ms/step - loss: 0.6679 - accuracy: 0.5000\n",
            "Epoch 16/20\n",
            "1/1 [==============================] - 0s 4ms/step - loss: 0.6664 - accuracy: 0.5000\n",
            "Epoch 17/20\n",
            "1/1 [==============================] - 0s 4ms/step - loss: 0.6650 - accuracy: 1.0000\n",
            "Epoch 18/20\n",
            "1/1 [==============================] - 0s 4ms/step - loss: 0.6635 - accuracy: 1.0000\n",
            "Epoch 19/20\n",
            "1/1 [==============================] - 0s 4ms/step - loss: 0.6620 - accuracy: 1.0000\n",
            "Epoch 20/20\n",
            "1/1 [==============================] - 0s 4ms/step - loss: 0.6603 - accuracy: 1.0000\n"
          ],
          "name": "stdout"
        }
      ]
    },
    {
      "cell_type": "code",
      "metadata": {
        "id": "Xedcn0HqZhbi",
        "colab": {
          "base_uri": "https://localhost:8080/",
          "height": 279
        },
        "outputId": "f8825b26-70b1-444b-e85f-1416ed054395"
      },
      "source": [
        "plt.figure(figsize=(12, 4))\n",
        "\n",
        "plt.subplot(1, 2, 1)\n",
        "plt.plot(history.history['loss'], 'b-', label='loss')\n",
        "plt.xlabel('Epoch')\n",
        "plt.legend()\n",
        "\n",
        "plt.subplot(1, 2, 2)\n",
        "plt.plot(history.history['accuracy'], 'g-', label='accuracy')\n",
        "plt.xlabel('Epoch')\n",
        "plt.legend()\n",
        "\n",
        "plt.show()"
      ],
      "execution_count": 69,
      "outputs": [
        {
          "output_type": "display_data",
          "data": {
            "image/png": "[encoded data removed]",
            "text/plain": [
              "<Figure size 864x288 with 2 Axes>"
            ]
          },
          "metadata": {
            "tags": [],
            "needs_background": "light"
          }
        }
      ]
    },
    {
      "cell_type": "markdown",
      "metadata": {
        "id": "ib6gdZI5Zhbi"
      },
      "source": [
        "## 평가"
      ]
    },
    {
      "cell_type": "code",
      "metadata": {
        "id": "IEayBpfbZhbj",
        "colab": {
          "base_uri": "https://localhost:8080/"
        },
        "outputId": "64f2e2c1-d1cd-4169-e111-bb1d7e7b30a8"
      },
      "source": [
        "# 모델 평가\n",
        "model.evaluate(train_inputs, train_labels)"
      ],
      "execution_count": 70,
      "outputs": [
        {
          "output_type": "stream",
          "text": [
            "1/1 [==============================] - 0s 116ms/step - loss: 0.6589 - accuracy: 1.0000\n"
          ],
          "name": "stdout"
        },
        {
          "output_type": "execute_result",
          "data": {
            "text/plain": [
              "[0.6588609218597412, 1.0]"
            ]
          },
          "metadata": {
            "tags": []
          },
          "execution_count": 70
        }
      ]
    },
    {
      "cell_type": "markdown",
      "metadata": {
        "id": "Vlt4WXgWZhbj"
      },
      "source": [
        "## 예측"
      ]
    },
    {
      "cell_type": "code",
      "metadata": {
        "id": "tvS1GqDhZhbj"
      },
      "source": [
        "# 추론할 입력\n",
        "string = '나는 기분이 우울해'"
      ],
      "execution_count": 71,
      "outputs": []
    },
    {
      "cell_type": "code",
      "metadata": {
        "id": "0EM08Z8vZhbj",
        "colab": {
          "base_uri": "https://localhost:8080/"
        },
        "outputId": "24693632-0949-4d2e-9502-731a626a7304"
      },
      "source": [
        "# 입력을 숫자로 변경\n",
        "infer_input = [word_to_id[word] for word in string.split()]\n",
        "infer_input"
      ],
      "execution_count": 72,
      "outputs": [
        {
          "output_type": "execute_result",
          "data": {
            "text/plain": [
              "[2, 4, 6]"
            ]
          },
          "metadata": {
            "tags": []
          },
          "execution_count": 72
        }
      ]
    },
    {
      "cell_type": "code",
      "metadata": {
        "id": "V18cJiq6Zhbj",
        "colab": {
          "base_uri": "https://localhost:8080/"
        },
        "outputId": "8b2880d0-5e48-43ea-e3fb-0c2700748d1b"
      },
      "source": [
        "# 문장의 길이를 모두 동일하게 변경 (최대길이 4)\n",
        "infer_input += [0] * (4 - len(infer_input))\n",
        "infer_input"
      ],
      "execution_count": 73,
      "outputs": [
        {
          "output_type": "execute_result",
          "data": {
            "text/plain": [
              "[2, 4, 6, 0]"
            ]
          },
          "metadata": {
            "tags": []
          },
          "execution_count": 73
        }
      ]
    },
    {
      "cell_type": "code",
      "metadata": {
        "id": "NonjgnZ1Zhbj",
        "colab": {
          "base_uri": "https://localhost:8080/"
        },
        "outputId": "d4d30929-ce43-4831-b94c-0c586c08c4d0"
      },
      "source": [
        "# numpy array 변환 (batch size 1 추가)\n",
        "infer_inputs = np.array([infer_input])\n",
        "infer_inputs"
      ],
      "execution_count": 74,
      "outputs": [
        {
          "output_type": "execute_result",
          "data": {
            "text/plain": [
              "array([[2, 4, 6, 0]])"
            ]
          },
          "metadata": {
            "tags": []
          },
          "execution_count": 74
        }
      ]
    },
    {
      "cell_type": "code",
      "metadata": {
        "id": "bF_ANe3WZhbj",
        "colab": {
          "base_uri": "https://localhost:8080/"
        },
        "outputId": "1712435a-9907-4c0d-8e0e-168f890448e5"
      },
      "source": [
        "# 긍정/부정 추론\n",
        "y_preds = model.predict(infer_inputs)\n",
        "y_preds"
      ],
      "execution_count": 75,
      "outputs": [
        {
          "output_type": "execute_result",
          "data": {
            "text/plain": [
              "array([[0.52925026, 0.47074974]], dtype=float32)"
            ]
          },
          "metadata": {
            "tags": []
          },
          "execution_count": 75
        }
      ]
    },
    {
      "cell_type": "code",
      "metadata": {
        "id": "KDPL_ZzSZhbk",
        "colab": {
          "base_uri": "https://localhost:8080/"
        },
        "outputId": "9f73ba0f-8bad-4020-d7bd-2bc848fe5f52"
      },
      "source": [
        "# 확률의 max 값을 추론 값으로 결정\n",
        "y_pred_class = np.argmax(y_preds, axis=1)\n",
        "y_pred_class"
      ],
      "execution_count": 76,
      "outputs": [
        {
          "output_type": "execute_result",
          "data": {
            "text/plain": [
              "array([0])"
            ]
          },
          "metadata": {
            "tags": []
          },
          "execution_count": 76
        }
      ]
    },
    {
      "cell_type": "code",
      "metadata": {
        "id": "8TBB3S9lZhbk",
        "colab": {
          "base_uri": "https://localhost:8080/"
        },
        "outputId": "068c169d-9b03-41e4-94fd-fda999b32a16"
      },
      "source": [
        "# 각 예측 값에 대한 label string\n",
        "for val in y_pred_class:\n",
        "    print(val, ':', id_to_label[val])"
      ],
      "execution_count": 77,
      "outputs": [
        {
          "output_type": "stream",
          "text": [
            "0 : 부정\n"
          ],
          "name": "stdout"
        }
      ]
    },
    {
      "cell_type": "code",
      "metadata": {
        "id": "pXW76LK5boFD"
      },
      "source": [
        ""
      ],
      "execution_count": 77,
      "outputs": []
    }
  ]
}