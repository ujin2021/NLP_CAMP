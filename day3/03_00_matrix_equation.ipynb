{
  "nbformat": 4,
  "nbformat_minor": 0,
  "metadata": {
    "colab": {
      "name": "03-00.matrix-equation.ipynb",
      "provenance": [],
      "collapsed_sections": [
        "wS_edoagzneJ",
        "h71F8NjjMhgT"
      ],
      "include_colab_link": true
    },
    "kernelspec": {
      "name": "python3",
      "display_name": "Python 3"
    },
    "accelerator": "GPU"
  },
  "cells": [
    {
      "cell_type": "markdown",
      "metadata": {
        "id": "view-in-github",
        "colab_type": "text"
      },
      "source": [
        "<a href=\"https://colab.research.google.com/github/ujin2021/NLP_CAMP/blob/main/day3/03_00_matrix_equation.ipynb\" target=\"_parent\"><img src=\"https://colab.research.google.com/assets/colab-badge.svg\" alt=\"Open In Colab\"/></a>"
      ]
    },
    {
      "cell_type": "markdown",
      "metadata": {
        "id": "BuaFwJqDVumT"
      },
      "source": [
        "# EVN"
      ]
    },
    {
      "cell_type": "code",
      "metadata": {
        "id": "ODiNPGQ9VwLK"
      },
      "source": [
        "import numpy as np\n",
        "import matplotlib.pyplot as plt\n",
        "\n",
        "import tensorflow as tf"
      ],
      "execution_count": 2,
      "outputs": []
    },
    {
      "cell_type": "markdown",
      "metadata": {
        "id": "sFo_3tAlzneI"
      },
      "source": [
        "# 행렬연산"
      ]
    },
    {
      "cell_type": "markdown",
      "metadata": {
        "id": "G1zJLVrr8GUG"
      },
      "source": [
        "### Element wise sum\r\n",
        "* 행렬 두개의 모양이 같아야 합이 가능\r\n",
        "* (m, n) + [(m, n) or (m, 1) or (1, n) or (1, 1)] = (m, n)\r\n",
        "> 1일경우 1을 m or n개로 변경해서 덧셈 가능(wildcard같이 사용)\r\n",
        "\r\n",
        "### Element wise multiplication\r\n",
        "* (m, n) * [(m, n) or (m, 1) or (1, n) or (1, 1)] = (m, n)\r\n",
        "\r\n",
        "### Matrix multiplication\r\n",
        "* (m, n) x (n, l) = (m, l)\r\n",
        "> 첫번째 matrix의 열과 두번째 matrix의 행의 수가 같아야 한다\r\n",
        "* dot product\r\n",
        "\r\n",
        "```\r\n",
        "(a1, a2, a3, ..., an) · (b1, b2, ..., bn)(열벡터) = a1b1 + a2b2 + ... + anbn(scalar)\r\n",
        "```\r\n",
        "\r\n"
      ]
    },
    {
      "cell_type": "markdown",
      "metadata": {
        "id": "erIr-mg8zneJ"
      },
      "source": [
        "## 데이터"
      ]
    },
    {
      "cell_type": "code",
      "metadata": {
        "id": "KQqU4MBIzneJ",
        "colab": {
          "base_uri": "https://localhost:8080/"
        },
        "outputId": "a02f4ba1-09b1-4968-f906-40ef4171116b"
      },
      "source": [
        "hidden = np.random.randint(-9, 10, (5, 4)) / 10\n",
        "hidden"
      ],
      "execution_count": 3,
      "outputs": [
        {
          "output_type": "execute_result",
          "data": {
            "text/plain": [
              "array([[ 0.8, -0.4, -0.8, -0.9],\n",
              "       [-0.9, -0.3,  0.6,  0.8],\n",
              "       [ 0.3, -0.3, -0.4,  0.9],\n",
              "       [-0.1,  0.4,  0. ,  0.3],\n",
              "       [ 0.9, -0.5, -0.8,  0. ]])"
            ]
          },
          "metadata": {
            "tags": []
          },
          "execution_count": 3
        }
      ]
    },
    {
      "cell_type": "markdown",
      "metadata": {
        "id": "wS_edoagzneJ"
      },
      "source": [
        "## element wise sum"
      ]
    },
    {
      "cell_type": "code",
      "metadata": {
        "id": "BJA0tV61UMWv",
        "colab": {
          "base_uri": "https://localhost:8080/"
        },
        "outputId": "33eda901-5679-4de0-af34-0cc7443f075d"
      },
      "source": [
        "arg = np.random.randint(-9, 10, (5, 4)) / 10 # hidden 과 같은 크기의 matrix\n",
        "print(arg)\n",
        "hidden + arg"
      ],
      "execution_count": 4,
      "outputs": [
        {
          "output_type": "stream",
          "text": [
            "[[-0.6  0.9 -0.7 -0.3]\n",
            " [ 0.  -0.1 -0.7  0.4]\n",
            " [-0.3  0.1 -0.1  0.2]\n",
            " [ 0.7 -0.8 -0.3 -0.8]\n",
            " [-0.5  0.8  0.9 -0.8]]\n"
          ],
          "name": "stdout"
        },
        {
          "output_type": "execute_result",
          "data": {
            "text/plain": [
              "array([[ 0.2,  0.5, -1.5, -1.2],\n",
              "       [-0.9, -0.4, -0.1,  1.2],\n",
              "       [ 0. , -0.2, -0.5,  1.1],\n",
              "       [ 0.6, -0.4, -0.3, -0.5],\n",
              "       [ 0.4,  0.3,  0.1, -0.8]])"
            ]
          },
          "metadata": {
            "tags": []
          },
          "execution_count": 4
        }
      ]
    },
    {
      "cell_type": "code",
      "metadata": {
        "id": "jrpIT_63UNu5",
        "colab": {
          "base_uri": "https://localhost:8080/"
        },
        "outputId": "515903db-137c-45f2-a503-4a77fe591285"
      },
      "source": [
        "arg = np.random.randint(-9, 10, (1, 4)) / 10 # (1, n) 1은 wildcard처럼 작용(마치 m개가 있는 것 처럼)\n",
        "print(arg)\n",
        "hidden + arg"
      ],
      "execution_count": 5,
      "outputs": [
        {
          "output_type": "stream",
          "text": [
            "[[ 0.9 -0.6  0.6  0.5]]\n"
          ],
          "name": "stdout"
        },
        {
          "output_type": "execute_result",
          "data": {
            "text/plain": [
              "array([[ 1.7, -1. , -0.2, -0.4],\n",
              "       [ 0. , -0.9,  1.2,  1.3],\n",
              "       [ 1.2, -0.9,  0.2,  1.4],\n",
              "       [ 0.8, -0.2,  0.6,  0.8],\n",
              "       [ 1.8, -1.1, -0.2,  0.5]])"
            ]
          },
          "metadata": {
            "tags": []
          },
          "execution_count": 5
        }
      ]
    },
    {
      "cell_type": "code",
      "metadata": {
        "id": "RoT8iffUzneJ",
        "colab": {
          "base_uri": "https://localhost:8080/"
        },
        "outputId": "8f402279-22f6-4513-e1cd-04d36678c117"
      },
      "source": [
        "arg = np.random.randint(-9, 10, (5, 1)) / 10 # (n, 1)\n",
        "print(arg)\n",
        "hidden + arg"
      ],
      "execution_count": 6,
      "outputs": [
        {
          "output_type": "stream",
          "text": [
            "[[ 0.9]\n",
            " [-0.5]\n",
            " [-0.2]\n",
            " [-0.1]\n",
            " [-0.9]]\n"
          ],
          "name": "stdout"
        },
        {
          "output_type": "execute_result",
          "data": {
            "text/plain": [
              "array([[ 1.7,  0.5,  0.1,  0. ],\n",
              "       [-1.4, -0.8,  0.1,  0.3],\n",
              "       [ 0.1, -0.5, -0.6,  0.7],\n",
              "       [-0.2,  0.3, -0.1,  0.2],\n",
              "       [ 0. , -1.4, -1.7, -0.9]])"
            ]
          },
          "metadata": {
            "tags": []
          },
          "execution_count": 6
        }
      ]
    },
    {
      "cell_type": "code",
      "metadata": {
        "id": "_qeklV9-UTzH",
        "colab": {
          "base_uri": "https://localhost:8080/"
        },
        "outputId": "fbde2d31-ad72-45e5-bcde-a9e71d22253b"
      },
      "source": [
        "arg = np.random.randint(-9, 10, (1, 1)) / 10\n",
        "print(arg)\n",
        "hidden + arg"
      ],
      "execution_count": 7,
      "outputs": [
        {
          "output_type": "stream",
          "text": [
            "[[-0.4]]\n"
          ],
          "name": "stdout"
        },
        {
          "output_type": "execute_result",
          "data": {
            "text/plain": [
              "array([[ 0.4, -0.8, -1.2, -1.3],\n",
              "       [-1.3, -0.7,  0.2,  0.4],\n",
              "       [-0.1, -0.7, -0.8,  0.5],\n",
              "       [-0.5,  0. , -0.4, -0.1],\n",
              "       [ 0.5, -0.9, -1.2, -0.4]])"
            ]
          },
          "metadata": {
            "tags": []
          },
          "execution_count": 7
        }
      ]
    },
    {
      "cell_type": "code",
      "metadata": {
        "id": "7bgNlTYUEzxI",
        "colab": {
          "base_uri": "https://localhost:8080/"
        },
        "outputId": "d57669a4-d9a5-4e42-9dd2-6d0c7da2c458"
      },
      "source": [
        "hidden + 1 # 모든원소에 1이 더해진다"
      ],
      "execution_count": 8,
      "outputs": [
        {
          "output_type": "execute_result",
          "data": {
            "text/plain": [
              "array([[1.8, 0.6, 0.2, 0.1],\n",
              "       [0.1, 0.7, 1.6, 1.8],\n",
              "       [1.3, 0.7, 0.6, 1.9],\n",
              "       [0.9, 1.4, 1. , 1.3],\n",
              "       [1.9, 0.5, 0.2, 1. ]])"
            ]
          },
          "metadata": {
            "tags": []
          },
          "execution_count": 8
        }
      ]
    },
    {
      "cell_type": "code",
      "metadata": {
        "id": "7DWycYWQE3X2",
        "colab": {
          "base_uri": "https://localhost:8080/"
        },
        "outputId": "e8f7ee39-bc41-4dd6-fca1-828868877fbe"
      },
      "source": [
        "1 + hidden # 위와 같은 결과"
      ],
      "execution_count": 9,
      "outputs": [
        {
          "output_type": "execute_result",
          "data": {
            "text/plain": [
              "array([[1.8, 0.6, 0.2, 0.1],\n",
              "       [0.1, 0.7, 1.6, 1.8],\n",
              "       [1.3, 0.7, 0.6, 1.9],\n",
              "       [0.9, 1.4, 1. , 1.3],\n",
              "       [1.9, 0.5, 0.2, 1. ]])"
            ]
          },
          "metadata": {
            "tags": []
          },
          "execution_count": 9
        }
      ]
    },
    {
      "cell_type": "markdown",
      "metadata": {
        "id": "h71F8NjjMhgT"
      },
      "source": [
        "## element wise multiplication"
      ]
    },
    {
      "cell_type": "code",
      "metadata": {
        "id": "jkYCGNhFMhgf",
        "colab": {
          "base_uri": "https://localhost:8080/"
        },
        "outputId": "c86b61bd-75fa-4fbd-f197-0a72278082ef"
      },
      "source": [
        "arg = np.random.randint(-9, 10, (5, 4)) / 10 \n",
        "print(arg)\n",
        "hidden * arg"
      ],
      "execution_count": 11,
      "outputs": [
        {
          "output_type": "stream",
          "text": [
            "[[ 0.3  0.8 -0.3 -0.8]\n",
            " [ 0.1  0.2 -0.5  0.7]\n",
            " [ 0.9  0.1  0.6  0.5]\n",
            " [ 0.3 -0.7  0.4 -0.6]\n",
            " [ 0.8  0.5  0.8  0.5]]\n"
          ],
          "name": "stdout"
        },
        {
          "output_type": "execute_result",
          "data": {
            "text/plain": [
              "array([[ 0.24, -0.32,  0.24,  0.72],\n",
              "       [-0.09, -0.06, -0.3 ,  0.56],\n",
              "       [ 0.27, -0.03, -0.24,  0.45],\n",
              "       [-0.03, -0.28,  0.  , -0.18],\n",
              "       [ 0.72, -0.25, -0.64,  0.  ]])"
            ]
          },
          "metadata": {
            "tags": []
          },
          "execution_count": 11
        }
      ]
    },
    {
      "cell_type": "code",
      "metadata": {
        "id": "8RkPr0jfMhgg",
        "colab": {
          "base_uri": "https://localhost:8080/"
        },
        "outputId": "62972389-f8a7-4a29-b0df-3972c5853920"
      },
      "source": [
        "arg = np.random.randint(-9, 10, (1, 4)) / 10\n",
        "print(arg)\n",
        "hidden * arg"
      ],
      "execution_count": 12,
      "outputs": [
        {
          "output_type": "stream",
          "text": [
            "[[ 0.7 -0.3  0.1  0.6]]\n"
          ],
          "name": "stdout"
        },
        {
          "output_type": "execute_result",
          "data": {
            "text/plain": [
              "array([[ 0.56,  0.12, -0.08, -0.54],\n",
              "       [-0.63,  0.09,  0.06,  0.48],\n",
              "       [ 0.21,  0.09, -0.04,  0.54],\n",
              "       [-0.07, -0.12,  0.  ,  0.18],\n",
              "       [ 0.63,  0.15, -0.08,  0.  ]])"
            ]
          },
          "metadata": {
            "tags": []
          },
          "execution_count": 12
        }
      ]
    },
    {
      "cell_type": "code",
      "metadata": {
        "id": "gOxjqjyUMhgg",
        "colab": {
          "base_uri": "https://localhost:8080/"
        },
        "outputId": "2578660c-57ea-44af-c3d9-1514cf5b7827"
      },
      "source": [
        "arg = np.random.randint(-9, 10, (5, 1)) / 10\n",
        "print(arg)\n",
        "hidden * arg"
      ],
      "execution_count": 13,
      "outputs": [
        {
          "output_type": "stream",
          "text": [
            "[[-0.2]\n",
            " [ 0.1]\n",
            " [-0.5]\n",
            " [-0.9]\n",
            " [ 0.6]]\n"
          ],
          "name": "stdout"
        },
        {
          "output_type": "execute_result",
          "data": {
            "text/plain": [
              "array([[-0.16,  0.08,  0.16,  0.18],\n",
              "       [-0.09, -0.03,  0.06,  0.08],\n",
              "       [-0.15,  0.15,  0.2 , -0.45],\n",
              "       [ 0.09, -0.36, -0.  , -0.27],\n",
              "       [ 0.54, -0.3 , -0.48,  0.  ]])"
            ]
          },
          "metadata": {
            "tags": []
          },
          "execution_count": 13
        }
      ]
    },
    {
      "cell_type": "code",
      "metadata": {
        "id": "svhBfZHmMhgg",
        "colab": {
          "base_uri": "https://localhost:8080/"
        },
        "outputId": "2e004260-26ea-41aa-fd05-7c4f24b44955"
      },
      "source": [
        "arg = np.random.randint(-9, 10, (1, 1)) / 10\n",
        "print(arg)\n",
        "hidden * arg"
      ],
      "execution_count": 14,
      "outputs": [
        {
          "output_type": "stream",
          "text": [
            "[[-0.5]]\n"
          ],
          "name": "stdout"
        },
        {
          "output_type": "execute_result",
          "data": {
            "text/plain": [
              "array([[-0.4 ,  0.2 ,  0.4 ,  0.45],\n",
              "       [ 0.45,  0.15, -0.3 , -0.4 ],\n",
              "       [-0.15,  0.15,  0.2 , -0.45],\n",
              "       [ 0.05, -0.2 , -0.  , -0.15],\n",
              "       [-0.45,  0.25,  0.4 , -0.  ]])"
            ]
          },
          "metadata": {
            "tags": []
          },
          "execution_count": 14
        }
      ]
    },
    {
      "cell_type": "code",
      "metadata": {
        "id": "ICFetaBqFK3X",
        "colab": {
          "base_uri": "https://localhost:8080/"
        },
        "outputId": "335fe436-3acb-48fd-a032-3e993a9e9a0a"
      },
      "source": [
        "hidden * 2"
      ],
      "execution_count": 15,
      "outputs": [
        {
          "output_type": "execute_result",
          "data": {
            "text/plain": [
              "array([[ 1.6, -0.8, -1.6, -1.8],\n",
              "       [-1.8, -0.6,  1.2,  1.6],\n",
              "       [ 0.6, -0.6, -0.8,  1.8],\n",
              "       [-0.2,  0.8,  0. ,  0.6],\n",
              "       [ 1.8, -1. , -1.6,  0. ]])"
            ]
          },
          "metadata": {
            "tags": []
          },
          "execution_count": 15
        }
      ]
    },
    {
      "cell_type": "code",
      "metadata": {
        "id": "jFgp0LhBFJVX",
        "colab": {
          "base_uri": "https://localhost:8080/"
        },
        "outputId": "e63d34a6-0c46-4339-b827-731b962fc0e3"
      },
      "source": [
        "2 * hidden"
      ],
      "execution_count": 16,
      "outputs": [
        {
          "output_type": "execute_result",
          "data": {
            "text/plain": [
              "array([[ 1.6, -0.8, -1.6, -1.8],\n",
              "       [-1.8, -0.6,  1.2,  1.6],\n",
              "       [ 0.6, -0.6, -0.8,  1.8],\n",
              "       [-0.2,  0.8,  0. ,  0.6],\n",
              "       [ 1.8, -1. , -1.6,  0. ]])"
            ]
          },
          "metadata": {
            "tags": []
          },
          "execution_count": 16
        }
      ]
    },
    {
      "cell_type": "markdown",
      "metadata": {
        "id": "StVZG6BQNuHv"
      },
      "source": [
        "## matrix multiplication"
      ]
    },
    {
      "cell_type": "code",
      "metadata": {
        "colab": {
          "base_uri": "https://localhost:8080/"
        },
        "id": "9OaatIhpNuH4",
        "outputId": "213fd99f-fb48-470a-fe6f-053c7e0a4080"
      },
      "source": [
        "arg = np.random.randint(-9, 10, (4, 5)) / 10 # hidden : (4, 5), arg: (5, 4) 두개를 matmul 하면(5, 5)가 만들어 진다\n",
        "print(arg)\n",
        "np.matmul(hidden, arg)"
      ],
      "execution_count": 20,
      "outputs": [
        {
          "output_type": "stream",
          "text": [
            "[[-0.7 -0.9  0.9  0.  -0.6]\n",
            " [ 0.   0.3  0.6  0.   0.3]\n",
            " [ 0.2  0.6 -0.3  0.9  0.4]\n",
            " [ 0.3 -0.3  0.6 -0.2  0.3]]\n"
          ],
          "name": "stdout"
        },
        {
          "output_type": "execute_result",
          "data": {
            "text/plain": [
              "array([[-0.99, -1.05,  0.18, -0.54, -1.19],\n",
              "       [ 0.99,  0.84, -0.69,  0.38,  0.93],\n",
              "       [-0.02, -0.87,  0.75, -0.54, -0.16],\n",
              "       [ 0.16,  0.12,  0.33, -0.06,  0.27],\n",
              "       [-0.79, -1.44,  0.75, -0.72, -1.01]])"
            ]
          },
          "metadata": {
            "tags": []
          },
          "execution_count": 20
        }
      ]
    },
    {
      "cell_type": "code",
      "metadata": {
        "colab": {
          "base_uri": "https://localhost:8080/"
        },
        "id": "5Cb1dK4XRjqc",
        "outputId": "220226fb-e601-4a03-9701-4fea3ced0018"
      },
      "source": [
        "val = np.zeros((hidden.shape[0], arg.shape[1]))\n",
        "print(hidden.shape[0], arg.shape[1])\n",
        "val"
      ],
      "execution_count": 24,
      "outputs": [
        {
          "output_type": "stream",
          "text": [
            "5 5\n"
          ],
          "name": "stdout"
        },
        {
          "output_type": "execute_result",
          "data": {
            "text/plain": [
              "array([[0., 0., 0., 0., 0.],\n",
              "       [0., 0., 0., 0., 0.],\n",
              "       [0., 0., 0., 0., 0.],\n",
              "       [0., 0., 0., 0., 0.],\n",
              "       [0., 0., 0., 0., 0.]])"
            ]
          },
          "metadata": {
            "tags": []
          },
          "execution_count": 24
        }
      ]
    },
    {
      "cell_type": "code",
      "metadata": {
        "colab": {
          "base_uri": "https://localhost:8080/"
        },
        "id": "eygkZ2N6RmuV",
        "outputId": "11a704e8-f43a-4ed0-92ba-b8d6774c618e"
      },
      "source": [
        "for row in range(hidden.shape[0]):\n",
        "    row_v = hidden[row]\n",
        "    for col in range(arg.shape[1]):\n",
        "        col_v = arg[:, col]\n",
        "        val[row][col] = np.dot(row_v, col_v)\n",
        "val"
      ],
      "execution_count": 22,
      "outputs": [
        {
          "output_type": "execute_result",
          "data": {
            "text/plain": [
              "array([[-0.99, -1.05,  0.18, -0.54, -1.19],\n",
              "       [ 0.99,  0.84, -0.69,  0.38,  0.93],\n",
              "       [-0.02, -0.87,  0.75, -0.54, -0.16],\n",
              "       [ 0.16,  0.12,  0.33, -0.06,  0.27],\n",
              "       [-0.79, -1.44,  0.75, -0.72, -1.01]])"
            ]
          },
          "metadata": {
            "tags": []
          },
          "execution_count": 22
        }
      ]
    },
    {
      "cell_type": "code",
      "metadata": {
        "id": "DBeV6JNvFWLC"
      },
      "source": [
        ""
      ],
      "execution_count": null,
      "outputs": []
    }
  ]
}